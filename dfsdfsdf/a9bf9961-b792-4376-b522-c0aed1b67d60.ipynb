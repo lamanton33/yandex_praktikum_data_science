{
 "cells": [
  {
   "cell_type": "markdown",
   "metadata": {},
   "source": [
    "<div style=\"border:solid green 2px; padding: 20px\">\n",
    "<b>Юрий, привет!</b>\n",
    "\n",
    "Меня зовут Евгений Д., и я буду проверять твой проект. Предлагаю общаться на «ты» 😊 Но если это не удобно - дай знать, и мы перейдем на \"вы\". \n",
    "\n",
    "Моя основная цель — не указать на совершенные тобою ошибки, а поделиться своим опытом и помочь тебе стать аналитиком данных. Ты уже проделал большую работу над проектом, но давай сделаем его еще лучше. Ниже ты найдешь мои комментарии - пожалуйста, не перемещай, не изменяй и не удаляй их. Я буду использовать цветовую разметку:\n",
    "\n",
    "<div class=\"alert alert-danger\">\n",
    "<b>Комментарий ревьюера:</b> Так выделены самые важные замечания. Без их отработки проект не будет принят. </div>\n",
    "\n",
    "<div class=\"alert alert-warning\">\n",
    "<b>Комментарий ревьюера:</b> Так выделены небольшие замечания. Одна-два таких замечания в проекте допустимы, но если их будет больше - тебе будет необходимо внести исправления. Это как тестовое задание при приеме на работу: очень много мелких ошибок могут стать причиной отказа кандидату. \n",
    "\n",
    "</div>\n",
    "\n",
    "<div class=\"alert alert-success\">\n",
    "<b>Комментарий ревьюера:</b> Так я выделяю все остальные комментарии.</div>\n",
    "\n",
    "Давай работать над проектом в диалоге: если ты что-то меняешь в проекте или отвечаешь на мои комменатри — пиши об этом. Мне будет легче отследить изменения, если ты выделишь свои комментарии:\n",
    "<div class=\"alert alert-info\"> <b>Комментарий студента:</b> Например, вот так.</div>\n",
    "\n",
    "Всё это поможет выполнить повторную проверку твоего проекта оперативнее. "
   ]
  },
  {
   "cell_type": "markdown",
   "metadata": {},
   "source": [
    "## Исследование надёжности заёмщиков\n",
    "\n",
    "Заказчик — кредитный отдел банка. Нужно разобраться, влияет ли семейное положение и количество детей клиента на факт погашения кредита в срок. Входные данные от банка — статистика о платёжеспособности клиентов.\n",
    "\n",
    "Результаты исследования будут учтены при построении модели **кредитного скоринга** — специальной системы, которая оценивает способность потенциального заёмщика вернуть кредит банку."
   ]
  },
  {
   "cell_type": "markdown",
   "metadata": {},
   "source": [
    "<div class=\"alert alert-success\">\n",
    "<h2> Комментарий ревьюера</h2>\n",
    "\n",
    "Вступление в работу очень важно. Так ты поясняешь то, чему она посвящена. Можно также привести краткий план проведения самой работы и описание используемых столбцов. \n",
    "\n",
    "</div>"
   ]
  },
  {
   "cell_type": "markdown",
   "metadata": {},
   "source": [
    "### Шаг 1. Откройте файл с данными и изучите общую информацию. "
   ]
  },
  {
   "cell_type": "code",
   "execution_count": 2,
   "metadata": {},
   "outputs": [
    {
     "name": "stdout",
     "output_type": "stream",
     "text": [
      "<class 'pandas.core.frame.DataFrame'>\n",
      "RangeIndex: 21525 entries, 0 to 21524\n",
      "Data columns (total 12 columns):\n",
      "children            21525 non-null int64\n",
      "days_employed       19351 non-null float64\n",
      "dob_years           21525 non-null int64\n",
      "education           21525 non-null object\n",
      "education_id        21525 non-null int64\n",
      "family_status       21525 non-null object\n",
      "family_status_id    21525 non-null int64\n",
      "gender              21525 non-null object\n",
      "income_type         21525 non-null object\n",
      "debt                21525 non-null int64\n",
      "total_income        19351 non-null float64\n",
      "purpose             21525 non-null object\n",
      "dtypes: float64(2), int64(5), object(5)\n",
      "memory usage: 2.0+ MB\n"
     ]
    }
   ],
   "source": [
    "import pandas as pd #импорт Pandas\n",
    "data = pd.read_csv('/datasets/data.csv') #чтение CSV файла\n",
    "data.info() #получение информации о таблице"
   ]
  },
  {
   "cell_type": "markdown",
   "metadata": {},
   "source": [
    "### Вывод"
   ]
  },
  {
   "cell_type": "markdown",
   "metadata": {},
   "source": [
    "В данных присутствуют артефакты. Например, отрицательное количество дней трудового стажа. Необходимо разобраться в них и исправить."
   ]
  },
  {
   "cell_type": "markdown",
   "metadata": {},
   "source": [
    "### Шаг 2. Предобработка данных"
   ]
  },
  {
   "cell_type": "markdown",
   "metadata": {},
   "source": [
    "### Обработка пропусков"
   ]
  },
  {
   "cell_type": "code",
   "execution_count": 3,
   "metadata": {},
   "outputs": [
    {
     "name": "stdout",
     "output_type": "stream",
     "text": [
      "children               0\n",
      "days_employed       2174\n",
      "dob_years              0\n",
      "education              0\n",
      "education_id           0\n",
      "family_status          0\n",
      "family_status_id       0\n",
      "gender                 0\n",
      "income_type            0\n",
      "debt                   0\n",
      "total_income        2174\n",
      "purpose                0\n",
      "dtype: int64\n"
     ]
    }
   ],
   "source": [
    "#ищем пропущенные значение используя метод isnull()\n",
    "print (data.isnull().sum())\n",
    "\n"
   ]
  },
  {
   "cell_type": "code",
   "execution_count": null,
   "metadata": {},
   "outputs": [],
   "source": []
  },
  {
   "cell_type": "markdown",
   "metadata": {},
   "source": [
    "### Вывод"
   ]
  },
  {
   "cell_type": "markdown",
   "metadata": {},
   "source": [
    "После использования метода для поиска пропущенных значений и изучения результатов его работы, можно сделать вывод, что пропущенные значения присутствуют в столбцах 'days_employed' и 'total_income'"
   ]
  },
  {
   "cell_type": "code",
   "execution_count": 4,
   "metadata": {},
   "outputs": [
    {
     "name": "stdout",
     "output_type": "stream",
     "text": [
      "Пропущенных значений в столбце total_income:0\n",
      "Пропущенных значений в столбце days_employed:0\n"
     ]
    }
   ],
   "source": [
    "def null_to_mean (income_type_list,column):\n",
    "    #функция принимает на вход DataFrame\n",
    "    #список типов занятости, для которых нужно\n",
    "    #провести расчет минимального уровня дохода.\n",
    "    #Затем для каждого типа занятости подставляет\n",
    "    #соответствующий минимальный доход вместо NaN\n",
    "    for income_source in income_type_list:\n",
    "        mean_column = data[data.income_type == income_source][column].mean()\n",
    "        data.loc[data.income_type == income_source] =\\\n",
    "        data.loc[data.income_type == income_source].fillna(mean_column)\n",
    "    print(f'Пропущенных значений в столбце {column}:{data[column].isna().sum()}')\n",
    "    return data\n",
    "\n",
    "#Проверяем результат\n",
    "data = null_to_mean(data.income_type.unique(), 'total_income')\n",
    "data = null_to_mean(data.income_type.unique(), 'days_employed')"
   ]
  },
  {
   "cell_type": "markdown",
   "metadata": {},
   "source": [
    "<div class=\"alert alert-success\">\n",
    "<h2> Комментарий ревьюера</h2>\n",
    "\n",
    "Классная функция 👍\n",
    "    \n",
    "Особенно радует, что она используется без дополнительного метода `apply` 😊 \n",
    "    \n",
    "Т.к. на больших данных метод `apply` будет работать очень долго. \n",
    "    \n",
    "</div>"
   ]
  },
  {
   "cell_type": "markdown",
   "metadata": {},
   "source": [
    "### Замена типа данных"
   ]
  },
  {
   "cell_type": "code",
   "execution_count": 5,
   "metadata": {},
   "outputs": [],
   "source": [
    "data['days_employed'] = data['days_employed'].astype('int64') #заменяем значения на с float на int\n",
    "data['total_income'] = data['total_income'].astype('int64') #заменяем значения с float на int\n",
    "data['family_status'] = data['family_status'].str.lower() #заменяем строки в Series с заглавными буквам на маленькие\n"
   ]
  },
  {
   "cell_type": "markdown",
   "metadata": {},
   "source": [
    "<div class=\"alert alert-success\">\n",
    "<h2> Комментарий ревьюера</h2>\n",
    "\n",
    "В том числе мы можем менять тип сразу у нескольких столбцов одновременно с помощью метода `astype` \n",
    "\n",
    "</div>"
   ]
  },
  {
   "cell_type": "markdown",
   "metadata": {},
   "source": [
    "### Вывод"
   ]
  },
  {
   "cell_type": "markdown",
   "metadata": {},
   "source": [
    "Мы заменили float на int через метод .astype(). Метод int() и метод to_numeric здесь не могли пройти т.к нам нужно было перевести именно float в int. Так-же заменили некоторые строки все строки на нижний регистр\n",
    "Теперь необходимо разобраться с дубликатами."
   ]
  },
  {
   "cell_type": "markdown",
   "metadata": {},
   "source": [
    "### Обработка дубликатов"
   ]
  },
  {
   "cell_type": "code",
   "execution_count": 6,
   "metadata": {},
   "outputs": [],
   "source": [
    "data.duplicated().sum() #ищем общее кол-во дубликатов в таблице\n",
    "data = data.drop_duplicates().reset_index(drop = True) #сбрасываем дубликаты и заменяем индексы сброшенные дубликатов.\n",
    "\n"
   ]
  },
  {
   "cell_type": "markdown",
   "metadata": {},
   "source": [
    "### Вывод"
   ]
  },
  {
   "cell_type": "markdown",
   "metadata": {},
   "source": [
    "Сначала мы нашли все дубликаты в таблице используя метод .duplicated().sum(). Далее мы сбросили их и заменили их индекс используя drop_duplicates().reset_index(drop = True). Дубликаты могли появиться из-за неправильной дублирования строк с одинаковой информацией или похожими по смыслу, но разными по названию категориями."
   ]
  },
  {
   "cell_type": "markdown",
   "metadata": {},
   "source": [
    "<div class=\"alert alert-danger\">\n",
    "<h2> Комментарий ревьюера</h2>\n",
    "\n",
    "<s>Обрати внимание, что таким способом мы не удалили дубликаты, так мы не переопределили переменную. </s>\n",
    "\n",
    "</div>\n"
   ]
  },
  {
   "cell_type": "code",
   "execution_count": 7,
   "metadata": {},
   "outputs": [
    {
     "name": "stdout",
     "output_type": "stream",
     "text": [
      "Количество дубликатов: 0\n"
     ]
    }
   ],
   "source": [
    "print(f'Количество дубликатов: {data.duplicated().sum()}')"
   ]
  },
  {
   "cell_type": "markdown",
   "metadata": {},
   "source": [
    "<div class=\"alert alert-info\"> <b>Комментарий студента:</b> Присвоил сброс дубликатов data. Теперь показывает 0 дубликатов.</div>"
   ]
  },
  {
   "cell_type": "markdown",
   "metadata": {},
   "source": [
    "### Лемматизация"
   ]
  },
  {
   "cell_type": "code",
   "execution_count": 8,
   "metadata": {},
   "outputs": [
    {
     "name": "stdout",
     "output_type": "stream",
     "text": [
      "['покупка жилье', 'приобретение автомобиль', 'дополнительный образование', 'сыграть свадьба', 'операция с жилье', 'образование', 'на проведение свадьба', 'покупка жилье для семья', 'покупка недвижимость', 'покупка коммерческий недвижимость', 'покупка жилой недвижимость', 'строительство собственный недвижимость', 'недвижимость', 'строительство недвижимость', 'на покупка подержать автомобиль', 'на покупка свой автомобиль', 'операция с коммерческий недвижимость', 'строительство жилой недвижимость', 'жилье', 'операция со свой недвижимость', 'автомобиль', 'заниматься образование', 'сделка с подержанный автомобиль', 'получение образование', 'автомобиль', 'свадьба', 'получение дополнительный образование', 'покупка свой жилье', 'операция с недвижимость', 'получение высокий образование', 'свой автомобиль', 'сделка с автомобиль', 'профильный образование', 'высокий образование', 'покупка жилье для сдача', 'на покупка автомобиль', 'ремонт жилье', 'заниматься высокий образование']\n",
      "операции с жильем               4461\n",
      "операции с автомобилем          4308\n",
      "получение образования           4014\n",
      "недвижимость                    2543\n",
      "кредит на проведение свадьбы    2335\n",
      "Name: purpose, dtype: int64\n",
      "3810\n"
     ]
    }
   ],
   "source": [
    "phrases = data['purpose'].unique() #находим уникальные значения столбца purpose\n",
    "from pymystem3 import Mystem #импорт библиотеки\n",
    "lemmas_list = [] #сохраняем пустой список для лемматизированных слов\n",
    "m = Mystem() #сохраняем в переменной функцию\n",
    "for phrase in phrases: #пишем цикл, лемматизирующий уникальные значения и добавляем их в список с лемматизированными словами.\n",
    "    lemmas = ''.join(m.lemmatize(phrase)).strip()\n",
    "    lemmas_list.append(lemmas)\n",
    "print(lemmas_list)\n",
    "\n",
    "def to_category(row):#пишем функцию, которая будет проверять слова из каждого ряда purpose и собирать их в отдельную категорию\n",
    "        purpose = m.lemmatize(row['purpose'])\n",
    "        if 'жилье' in purpose:\n",
    "            return 'операции с жильем'\n",
    "        if ('коммерческий' in purpose) or ('жилой' in purpose ):\n",
    "            return 'недвижимость'\n",
    "        if 'автомобиль' in purpose:\n",
    "            return 'операции с автомобилем'\n",
    "        if 'образование' in purpose:\n",
    "            return 'получение образования'\n",
    "        if 'свадьба' in purpose:\n",
    "            return 'кредит на проведение свадьбы'\n",
    "data['purpose'] = data.apply(to_category, axis=1)\n",
    "print(data['purpose'].value_counts())\n",
    "print(data['purpose'].isna().sum())\n"
   ]
  },
  {
   "cell_type": "markdown",
   "metadata": {},
   "source": [
    "<div class=\"alert alert-danger\">\n",
    "<h2> Комментарий ревьюера</h2>\n",
    "\n",
    "<s>Поправь пожалуйста код, чтобы я смог проверить твой проект дальше. </s>\n",
    "    \n",
    "</div>\n",
    "<div class=\"alert alert-info\"> <b>Комментарий студента:</b> Поправил код, и дописал немного.</div>"
   ]
  },
  {
   "cell_type": "markdown",
   "metadata": {},
   "source": [
    "### Вывод"
   ]
  },
  {
   "cell_type": "markdown",
   "metadata": {},
   "source": [
    "Мы лемматизировали данные из столбца purpose. Для этого была использована библиотека pymystem3. Для начала был составлен список лемматизированных значений. Потом была составлена функция, которые эти значения проверяет, по каждой выделенной группе. Затем мы заменили эти значения уже в столбце purpose, на группы на которые разбили их. Далее подсчитали их и сделали вывод, что кредиты на операции с жильем, берут больше всего. На втором месте идут операции с автомобилем, а на третем месте получение образования."
   ]
  },
  {
   "cell_type": "markdown",
   "metadata": {},
   "source": [
    "### Категоризация данных"
   ]
  },
  {
   "cell_type": "code",
   "execution_count": 9,
   "metadata": {},
   "outputs": [
    {
     "name": "stdout",
     "output_type": "stream",
     "text": [
      "зп выше среднего    21099\n",
      "средняя зп            372\n",
      "Name: total_income, dtype: int64\n"
     ]
    }
   ],
   "source": [
    "\n",
    "#Разбивает людей по группам исходя из их доходов, используя правила:\n",
    "#'малоимущие' при значении total_income <= 20000\n",
    "#'средняя зп' при значении total_income < 50000\n",
    "#'зп выше среднего' при значении total_income >= 50000\n",
    "\n",
    "def total_income_categorize(row):\n",
    "    total_income = row['total_income']\n",
    "\n",
    "\n",
    "    if total_income <= 20000:\n",
    "        return 'малоимущие'\n",
    "\n",
    "    if total_income < 50000:\n",
    "        return 'средняя зп'\n",
    "    \n",
    "    if total_income >= 50000:\n",
    "        return 'зп выше среднего'\n",
    "\n",
    "#data.apply(total_income_categorize, axis=1)\n",
    "#print(data.head(10)) \n",
    "data['total_income'] = data.apply(total_income_categorize, axis=1)\n",
    "print(data['total_income'].value_counts()) \n",
    "\n",
    "#total_income_categorize()\n",
    "            "
   ]
  },
  {
   "cell_type": "markdown",
   "metadata": {},
   "source": [
    "### Вывод"
   ]
  },
  {
   "cell_type": "markdown",
   "metadata": {},
   "source": [
    "Мы написали функцию и разбили людей на группы по их доходам, затем подсчитали кол-во людей в каждой группе. Людей с зарплатой выше 50000 рублей мы отнесли к группе с зарплатой выше среднего, а от 20 до 50 - со средней зарплатой. Людей с зарплатой выше среднего оказалось гораздо больше, целых в 56 раз. "
   ]
  },
  {
   "cell_type": "markdown",
   "metadata": {},
   "source": [
    "### Шаг 3. Ответьте на вопросы"
   ]
  },
  {
   "cell_type": "markdown",
   "metadata": {},
   "source": [
    "- Есть ли зависимость между наличием детей и возвратом кредита в срок?"
   ]
  },
  {
   "cell_type": "code",
   "execution_count": 23,
   "metadata": {},
   "outputs": [
    {
     "data": {
      "text/plain": [
       "children\n",
       "-1      2.127660\n",
       " 0      7.535266\n",
       " 1      9.232689\n",
       " 2      9.454191\n",
       " 3      8.181818\n",
       " 4      9.756098\n",
       " 5           NaN\n",
       " 20    10.526316\n",
       "dtype: float64"
      ]
     },
     "execution_count": 23,
     "metadata": {},
     "output_type": "execute_result"
    }
   ],
   "source": [
    "\n",
    "pivot_table_income_level = data.pivot_table(index='children', columns= 'debt', values='days_employed', aggfunc='count')\n",
    "pivot_table_income_level[1]/(pivot_table_income_level[1] + pivot_table_income_level[0]) * 100\n"
   ]
  },
  {
   "cell_type": "markdown",
   "metadata": {},
   "source": [
    "### Вывод"
   ]
  },
  {
   "cell_type": "markdown",
   "metadata": {},
   "source": [
    "Исходя из полученного результата, можно сделать вывод, что доля невозврата кредита самая высокая у семьи с 20 детьми. В целом она растет по количеству детей, хотя у семьи с 3 детьми доля ниже, чем у тех где их 4, либо 2."
   ]
  },
  {
   "cell_type": "markdown",
   "metadata": {},
   "source": [
    "<div class=\"alert alert-danger\">\n",
    "<h2> Комментарий ревьюера</h2>\n",
    "\n",
    "<s>Обрати внимание, что мы не совсем верно посчитали для ответа на вопросы.\n",
    "    \n",
    "Здесь нам нужно посчитать вероятность клиента стать должником.\n",
    "    \n",
    "Как она расчитывается ? \n",
    "    \n",
    "Вероятность = кол–во клиентов не вернувших долг / общее кол–во клиентов в группе\n",
    "    \n",
    "Это посчитать можно с помощью сводных таблиц `pivot_table`, хочу напомнить, что сводные таблицы это те же датафремы. То есть в них можно добавлять столбцы и делать нужные нам расчеты.\n",
    "    \n",
    "Давай поправим пожалуйста эти расчеты. </s>\n",
    "    \n",
    "</div>\n",
    "\n",
    "\n",
    "<div class=\"alert alert-info\"> <b>Комментарий студента:</b> Исправил код, сделал через pivot. Сначала находим необходимую нам завимисоть в сводной таблице, затем долю клиентов, которые не отдали кредит в зависимости от вопроса.</div>\n"
   ]
  },
  {
   "cell_type": "markdown",
   "metadata": {},
   "source": [
    "<div class=\"alert alert-success\">\n",
    "<b>Комментарий ревьюера:</b>\n",
    "\n",
    "Верно 👍\n",
    "    \n",
    "</div>"
   ]
  },
  {
   "cell_type": "markdown",
   "metadata": {},
   "source": [
    "- Есть ли зависимость между семейным положением и возвратом кредита в срок?"
   ]
  },
  {
   "cell_type": "code",
   "execution_count": 24,
   "metadata": {},
   "outputs": [
    {
     "data": {
      "text/plain": [
       "family_status\n",
       "в разводе                7.112971\n",
       "вдовец / вдова           6.569343\n",
       "гражданский брак         9.320202\n",
       "женат / замужем          7.542126\n",
       "не женат / не замужем    9.750890\n",
       "dtype: float64"
      ]
     },
     "execution_count": 24,
     "metadata": {},
     "output_type": "execute_result"
    }
   ],
   "source": [
    "\n",
    "pivot_table_income_level = data.pivot_table(index='family_status', columns= 'debt', values='days_employed', aggfunc='count')\n",
    "pivot_table_income_level[1]/(pivot_table_income_level[1] + pivot_table_income_level[0]) * 100\n"
   ]
  },
  {
   "cell_type": "markdown",
   "metadata": {},
   "source": [
    "### Вывод"
   ]
  },
  {
   "cell_type": "markdown",
   "metadata": {},
   "source": [
    "Исходя из полученного результата, доля у людей состоящих в гражданском браке или не состоящих в браке выше, чем у остальных."
   ]
  },
  {
   "cell_type": "markdown",
   "metadata": {},
   "source": [
    "<div class=\"alert alert-success\">\n",
    "<b>Комментарий ревьюера:</b>\n",
    "\n",
    "В точку 👍\n",
    "    \n",
    "Обрати внимание, что наши действия повторяются с точки зрения расчетов.\n",
    "    \n",
    "Это говорит о том, что мы можем создать функцию для постоянных расчетов. Тем самым мы сможем оптимизировать свой код 😊\n",
    "    \n",
    "</div>"
   ]
  },
  {
   "cell_type": "markdown",
   "metadata": {},
   "source": [
    "- Есть ли зависимость между уровнем дохода и возвратом кредита в срок?"
   ]
  },
  {
   "cell_type": "code",
   "execution_count": 21,
   "metadata": {},
   "outputs": [
    {
     "data": {
      "text/plain": [
       "total_income\n",
       "зп выше среднего    8.142566\n",
       "средняя зп          6.182796\n",
       "dtype: float64"
      ]
     },
     "execution_count": 21,
     "metadata": {},
     "output_type": "execute_result"
    }
   ],
   "source": [
    "\n",
    "pivot_table_income_level = data.pivot_table(index='total_income', columns= 'debt', values='days_employed', aggfunc='count')\n",
    "pivot_table_income_level[1]/(pivot_table_income_level[1] + pivot_table_income_level[0]) * 100\n"
   ]
  },
  {
   "cell_type": "markdown",
   "metadata": {},
   "source": [
    "### Вывод"
   ]
  },
  {
   "cell_type": "markdown",
   "metadata": {},
   "source": [
    "Исходя из полученных данных люди с зарплатой выше среднего имеют большую долю."
   ]
  },
  {
   "cell_type": "markdown",
   "metadata": {},
   "source": [
    "\n",
    "<div class=\"alert alert-success\">\n",
    "<b>Комментарий ревьюера:</b>\n",
    "\n",
    "Верно 👍\n",
    "    \n",
    "\n",
    "    \n",
    "</div>"
   ]
  },
  {
   "cell_type": "markdown",
   "metadata": {},
   "source": [
    "- Как разные цели кредита влияют на его возврат в срок?"
   ]
  },
  {
   "cell_type": "code",
   "execution_count": 25,
   "metadata": {},
   "outputs": [
    {
     "data": {
      "text/plain": [
       "purpose\n",
       "кредит на проведение свадьбы    7.965739\n",
       "недвижимость                    7.392843\n",
       "операции с автомобилем          9.354689\n",
       "операции с жильем               6.904282\n",
       "получение образования           9.217738\n",
       "dtype: float64"
      ]
     },
     "execution_count": 25,
     "metadata": {},
     "output_type": "execute_result"
    }
   ],
   "source": [
    "pivot_table_income_level = data.pivot_table(index='purpose', columns= 'debt', values='days_employed', aggfunc='count')\n",
    "pivot_table_income_level[1]/(pivot_table_income_level[1] + pivot_table_income_level[0]) * 100\n"
   ]
  },
  {
   "cell_type": "markdown",
   "metadata": {},
   "source": [
    "### Вывод"
   ]
  },
  {
   "cell_type": "markdown",
   "metadata": {},
   "source": [
    "Исходя из полученного результата, можно сделать вывод, что люди берущие кредит на операции с автомобилем и на получение образования, имеют большую долю, чем остальные."
   ]
  },
  {
   "cell_type": "markdown",
   "metadata": {},
   "source": [
    "<div class=\"alert alert-success\">\n",
    "<b>Комментарий ревьюера:</b>\n",
    "\n",
    "Верно 👍\n",
    "    \n",
    "</div>"
   ]
  },
  {
   "cell_type": "markdown",
   "metadata": {},
   "source": [
    "### Шаг 4. Общий вывод"
   ]
  },
  {
   "cell_type": "markdown",
   "metadata": {},
   "source": [
    "Кредиты бывают разные и на скорость их возврата играет много факторов. Каждый случай уникален и нельзя сказать в целом, что все люди берущие кредиты на свадьбу имеют задолжность, хотя в некоторых случаях да. Для правильного рассмотрение, необходимо анализировать человека по всем параметрам и смотреть на долю клиентов из каждого среза, которая не отдала кредит."
   ]
  },
  {
   "cell_type": "markdown",
   "metadata": {},
   "source": [
    "<div class=\"alert alert-success\">\n",
    "<b>Комментарий ревьюера:</b>\n",
    "\n",
    "Выводы понятны и логичны, а самое главное подкреплены выявленными фактами.\n",
    "       \n",
    "В целом сам проект выполнен на хорошем уровне! На протяжении всей работы чувствуется глубина проработки задачи и это безусловный плюс для нас. Было использовано большое количество методов, которые будут помогать тебе в дальнейших проектах.\n",
    "    \n",
    "Не стоит забывать про оформление своей работы, это важный такой же важный этап. Рекомендую «не стесняться» использовать ячейки типа **markdown** там где нам необходимо отобразить свои размышления, в том числе с использованием дополнительной стилизации.\n",
    "    \n",
    "Успехов тебе в новых проектах! \n",
    "    \n",
    "</div>"
   ]
  },
  {
   "cell_type": "markdown",
   "metadata": {},
   "source": [
    "<div class=\"alert alert-success\">\n",
    "<b>Комментарий ревьюера:</b>\n",
    "\n",
    "Рекомендую посмотреть на дополнительную стилизацию ячеек типа **markdown**.\n",
    "    \n",
    "**Жирный**\n",
    "*Курсив*\n",
    "    \n",
    "--- \n",
    "\n",
    "# Заголовок первого уровня\n",
    "\n",
    "--- \n",
    "    \n",
    "## Заголовок второго уровня\n",
    "  \n",
    "---  \n",
    "Списки:\n",
    "    \n",
    "- один \n",
    "- два\n",
    "- три\n",
    "   \n",
    "---\n",
    "    \n",
    "1. Раз\n",
    "2. Раз раз\n",
    "3. Раз два три\n",
    "    \n",
    "--- \n",
    "    \n",
    "Отображение `переменных`\n",
    "    \n",
    "    \n",
    "---\n",
    "   \n",
    "Также здесь можно найти все, что нужно:\n",
    "    \n",
    "https://www.notion.so/35d9c2f32ffa42f3b17010737aedca4b\n",
    "    \n",
    "</div>"
   ]
  },
  {
   "cell_type": "markdown",
   "metadata": {},
   "source": [
    "### Чек-лист готовности проекта\n",
    "\n",
    "Поставьте 'x' в выполненных пунктах. Далее нажмите Shift+Enter."
   ]
  },
  {
   "cell_type": "markdown",
   "metadata": {},
   "source": [
    "- [x]  открыт файл;\n",
    "- [x]  файл изучен;\n",
    "- [x]  определены пропущенные значения;\n",
    "- [x]  заполнены пропущенные значения;\n",
    "- [x]  есть пояснение, какие пропущенные значения обнаружены;\n",
    "- [x]  описаны возможные причины появления пропусков в данных;\n",
    "- [x]  объяснено, по какому принципу заполнены пропуски;\n",
    "- [x]  заменен вещественный тип данных на целочисленный;\n",
    "- [x]  есть пояснение, какой метод используется для изменения типа данных и почему;\n",
    "- [x]  удалены дубликаты;\n",
    "- [x]  есть пояснение, какой метод используется для поиска и удаления дубликатов;\n",
    "- [x]  описаны возможные причины появления дубликатов в данных;\n",
    "- [x]  выделены леммы в значениях столбца с целями получения кредита;\n",
    "- [x]  описан процесс лемматизации;\n",
    "- [x]  данные категоризированы;\n",
    "- [x]  есть объяснение принципа категоризации данных;\n",
    "- [x]  есть ответ на вопрос: \"Есть ли зависимость между наличием детей и возвратом кредита в срок?\";\n",
    "- [x]  есть ответ на вопрос: \"Есть ли зависимость между семейным положением и возвратом кредита в срок?\";\n",
    "- [x]  есть ответ на вопрос: \"Есть ли зависимость между уровнем дохода и возвратом кредита в срок?\";\n",
    "- [x]  есть ответ на вопрос: \"Как разные цели кредита влияют на его возврат в срок?\";\n",
    "- [x]  в каждом этапе есть выводы;\n",
    "- [x]  есть общий вывод."
   ]
  }
 ],
 "metadata": {
  "kernelspec": {
   "display_name": "Python 3",
   "language": "python",
   "name": "python3"
  },
  "language_info": {
   "codemirror_mode": {
    "name": "ipython",
    "version": 3
   },
   "file_extension": ".py",
   "mimetype": "text/x-python",
   "name": "python",
   "nbconvert_exporter": "python",
   "pygments_lexer": "ipython3",
   "version": "3.7.8"
  },
  "toc": {
   "base_numbering": 1,
   "nav_menu": {},
   "number_sections": true,
   "sideBar": true,
   "skip_h1_title": true,
   "title_cell": "Table of Contents",
   "title_sidebar": "Contents",
   "toc_cell": false,
   "toc_position": {},
   "toc_section_display": true,
   "toc_window_display": false
  }
 },
 "nbformat": 4,
 "nbformat_minor": 2
}
