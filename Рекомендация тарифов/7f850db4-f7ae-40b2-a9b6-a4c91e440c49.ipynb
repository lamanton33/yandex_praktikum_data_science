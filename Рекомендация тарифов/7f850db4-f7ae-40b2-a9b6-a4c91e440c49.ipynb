{
 "cells": [
  {
   "cell_type": "markdown",
   "metadata": {},
   "source": [
    "<img src=https://www.meme-arsenal.com/memes/5f0ccdd82eda80ded9db721a8746f804.jpg><br>\n",
    "<hr style=\"border: 10px solid green;\" />\n",
    "\n",
    "## <span style=\"color:green\">Финальный комментарий<span>\n",
    "Юрий, спасибо за доработки🤝\n",
    "\n",
    "Не все оказались верными, посмотри мой комментарий [тестирование модели](#21-bullet) - оставим на самостоятельное исправление\n",
    "\n",
    "Поздравляю, проект принят👍"
   ]
  },
  {
   "cell_type": "markdown",
   "metadata": {},
   "source": [
    "<hr style=\"border: 2px solid green;\" />\n",
    "\n",
    "## Комментарий ревьювера\n",
    "\n",
    "Юрий, привет! \n",
    "\n",
    "🤚Меня зовут, Олег Юрьев, я буду проверять твой проект. Если не против, я буду обращаться к тебе на _ТЫ_ . Если это неприемлемо, обязательно напиши мне в комментариях - мы прейдем на _ВЫ_ .\n",
    "\n",
    "🤝Спасибо, что сдал проект вовремя. Тобой проделана большая работа, молодец! \n",
    "\n",
    "✏️В этой тетрадке ты найдешь мои комментарии.\n",
    "\n",
    "Комментарии будут выделены:\n",
    "\n",
    "<div style=\"border:solid green 2px; padding: 20px\"> <b>Отличная работа</b><br>\n",
    "    Безупречная работа</div>       \n",
    "<br>\n",
    "<div style=\"border:solid orange 2px; padding: 20px\"> <b>Что можно улучшить</b><br>\n",
    "    Ничего дорабатывать не надо, данные пункты работают нормально, но есть способы улучшить. Несколько таких комментариев допустимы, но более - придется некоторые доработать. Большое кол-во мелких замечаний и помарок сказываются на общем впечатлении от работы.</div>   \n",
    "<br>\n",
    "<div style=\"border:solid red 2px; padding: 20px\"> <b>Что необходимо доработать</b><br>\n",
    "    Такие пункты необходимо исправить в первую очередь, чтобы я смог принять проект.</div>\n",
    " \n",
    "Не удаляй комментарии, так будем следить за динамикой 📈\n",
    "   \n",
    "Давай будем в диалоге - основные цели в диалоге:\n",
    "- обмен опытом (да я тоже учусь у студентов👨‍🎓)\n",
    "- выполнить проект еще лучше\n",
    "- помочь тебе стать аналитиком\n",
    "\n",
    "Поэтому чтобы мне проще было проверять повторно, а тебе контролировать процесс ревью, оставляй свои комментарии и выделяй их. \n",
    "    \n",
    "<div class=\"alert alert-info\" style=\"border:solid blue 2px; padding: 20px\"> <b>Комментарий студента:</b> Например, вот так.</div>\n",
    "   \n",
    "Поехали! :)\n",
    "\n",
    "<hr style=\"border: 2px solid green;\" />"
   ]
  },
  {
   "cell_type": "markdown",
   "metadata": {},
   "source": [
    "# Рекомендация тарифов"
   ]
  },
  {
   "cell_type": "markdown",
   "metadata": {},
   "source": [
    "В вашем распоряжении данные о поведении клиентов, которые уже перешли на эти тарифы (из проекта курса «Статистический анализ данных»). Нужно построить модель для задачи классификации, которая выберет подходящий тариф. Предобработка данных не понадобится — вы её уже сделали.\n",
    "\n",
    "Постройте модель с максимально большим значением *accuracy*. Чтобы сдать проект успешно, нужно довести долю правильных ответов по крайней мере до 0.75. Проверьте *accuracy* на тестовой выборке самостоятельно."
   ]
  },
  {
   "cell_type": "markdown",
   "metadata": {},
   "source": [
    "## 1. Откройте и изучите файл"
   ]
  },
  {
   "cell_type": "code",
   "execution_count": 2,
   "metadata": {},
   "outputs": [],
   "source": [
    "import pandas as pd\n",
    "\n",
    "from sklearn.model_selection import train_test_split\n",
    "\n",
    "from sklearn.tree import DecisionTreeClassifier\n",
    "from sklearn.ensemble import RandomForestClassifier\n",
    "from sklearn.linear_model import LogisticRegression\n",
    "\n",
    "from sklearn.metrics import accuracy_score"
   ]
  },
  {
   "cell_type": "markdown",
   "metadata": {},
   "source": [
    "<div style=\"border:solid green 2px; padding: 20px\"> <b>Отличная работа</b><br>\n",
    "Классно, когда все импорты в одном месте. Если чего не будет, например, коллега увидит это сразу, а не будет ожидать. Некоторые задачи могут решаться довольно долго</div>  "
   ]
  },
  {
   "cell_type": "code",
   "execution_count": 3,
   "metadata": {},
   "outputs": [],
   "source": [
    "users_behavior = pd.read_csv('/datasets/users_behavior.csv')"
   ]
  },
  {
   "cell_type": "code",
   "execution_count": 4,
   "metadata": {},
   "outputs": [
    {
     "data": {
      "text/plain": [
       "(3214, 5)"
      ]
     },
     "execution_count": 4,
     "metadata": {},
     "output_type": "execute_result"
    }
   ],
   "source": [
    "users_behavior.shape"
   ]
  },
  {
   "cell_type": "code",
   "execution_count": 5,
   "metadata": {},
   "outputs": [
    {
     "data": {
      "text/html": [
       "<div>\n",
       "<style scoped>\n",
       "    .dataframe tbody tr th:only-of-type {\n",
       "        vertical-align: middle;\n",
       "    }\n",
       "\n",
       "    .dataframe tbody tr th {\n",
       "        vertical-align: top;\n",
       "    }\n",
       "\n",
       "    .dataframe thead th {\n",
       "        text-align: right;\n",
       "    }\n",
       "</style>\n",
       "<table border=\"1\" class=\"dataframe\">\n",
       "  <thead>\n",
       "    <tr style=\"text-align: right;\">\n",
       "      <th></th>\n",
       "      <th>calls</th>\n",
       "      <th>minutes</th>\n",
       "      <th>messages</th>\n",
       "      <th>mb_used</th>\n",
       "      <th>is_ultra</th>\n",
       "    </tr>\n",
       "  </thead>\n",
       "  <tbody>\n",
       "    <tr>\n",
       "      <td>0</td>\n",
       "      <td>40.0</td>\n",
       "      <td>311.90</td>\n",
       "      <td>83.0</td>\n",
       "      <td>19915.42</td>\n",
       "      <td>0</td>\n",
       "    </tr>\n",
       "    <tr>\n",
       "      <td>1</td>\n",
       "      <td>85.0</td>\n",
       "      <td>516.75</td>\n",
       "      <td>56.0</td>\n",
       "      <td>22696.96</td>\n",
       "      <td>0</td>\n",
       "    </tr>\n",
       "    <tr>\n",
       "      <td>2</td>\n",
       "      <td>77.0</td>\n",
       "      <td>467.66</td>\n",
       "      <td>86.0</td>\n",
       "      <td>21060.45</td>\n",
       "      <td>0</td>\n",
       "    </tr>\n",
       "    <tr>\n",
       "      <td>3</td>\n",
       "      <td>106.0</td>\n",
       "      <td>745.53</td>\n",
       "      <td>81.0</td>\n",
       "      <td>8437.39</td>\n",
       "      <td>1</td>\n",
       "    </tr>\n",
       "    <tr>\n",
       "      <td>4</td>\n",
       "      <td>66.0</td>\n",
       "      <td>418.74</td>\n",
       "      <td>1.0</td>\n",
       "      <td>14502.75</td>\n",
       "      <td>0</td>\n",
       "    </tr>\n",
       "  </tbody>\n",
       "</table>\n",
       "</div>"
      ],
      "text/plain": [
       "   calls  minutes  messages   mb_used  is_ultra\n",
       "0   40.0   311.90      83.0  19915.42         0\n",
       "1   85.0   516.75      56.0  22696.96         0\n",
       "2   77.0   467.66      86.0  21060.45         0\n",
       "3  106.0   745.53      81.0   8437.39         1\n",
       "4   66.0   418.74       1.0  14502.75         0"
      ]
     },
     "execution_count": 5,
     "metadata": {},
     "output_type": "execute_result"
    }
   ],
   "source": [
    "users_behavior.head()"
   ]
  },
  {
   "cell_type": "markdown",
   "metadata": {},
   "source": [
    "В датасете целевой признак is_ultra. Будем строить модель предсказывающую 1 - Ультра, 0 - Смарт. Целевой признак - категориальный."
   ]
  },
  {
   "cell_type": "code",
   "execution_count": 6,
   "metadata": {},
   "outputs": [
    {
     "name": "stdout",
     "output_type": "stream",
     "text": [
      "<class 'pandas.core.frame.DataFrame'>\n",
      "RangeIndex: 3214 entries, 0 to 3213\n",
      "Data columns (total 5 columns):\n",
      "calls       3214 non-null float64\n",
      "minutes     3214 non-null float64\n",
      "messages    3214 non-null float64\n",
      "mb_used     3214 non-null float64\n",
      "is_ultra    3214 non-null int64\n",
      "dtypes: float64(4), int64(1)\n",
      "memory usage: 125.7 KB\n"
     ]
    }
   ],
   "source": [
    "users_behavior.info()"
   ]
  },
  {
   "cell_type": "markdown",
   "metadata": {},
   "source": [
    "<div style=\"border:solid orange 2px; padding: 20px\"> <b>Что можно улучшить</b><br>\n",
    "Рекомендовал бы не ограничивать обзор данных, даже с учетом того, что он подготовлен на стадии проекта <b>Статистический анализ</b> - помним про принцип <b>Garbage in - garbage out</b>. Легче в самом начале увидеть несоответствие, чем потратив силы и время.<br>\n",
    "Чтобы тратить меньше времени на обзор, можно автоматизировать этот процесс:<br>\n",
    "<ul>\n",
    "    <li> собрать известные методы в функцию (например, head\\tail\\describe\\info)\n",
    "    <li> воспользоваться какой-либо библиотекой, например, <a href=\"https://github.com/pandas-profiling/pandas-profiling\">pandas_profiling</a>, статья про неё <a href=\"https://habr.com/ru/company/ruvds/blog/451478/\">на хабре</a>\n",
    "    <li> или провести увлекательный процесс творчества и изучения, чтобы создать свой собственный пакет - когда-то у меня получилось <a href=\"https://github.com/urevoleg/data-view\">data-view</a> и пакет <a href-\"https://pypi.org/project/data-view/\">на pypi</a></ul></div>   "
   ]
  },
  {
   "cell_type": "markdown",
   "metadata": {},
   "source": [
    "## 2. Разбейте данные на выборки"
   ]
  },
  {
   "cell_type": "code",
   "execution_count": 5,
   "metadata": {},
   "outputs": [],
   "source": [
    "# 60% отводим под обучающую выборку\n",
    "df_train, df_valid = train_test_split(users_behavior, test_size=0.4, random_state=12345)\n",
    "# половину из оставшихся 40% отдаем на валидационную, другую половину – на тестовую\n",
    "df_valid, df_test = train_test_split(df_valid, test_size=0.5, random_state=12345)"
   ]
  },
  {
   "cell_type": "markdown",
   "metadata": {},
   "source": [
    "Мы получили выборки по 60 20 и 20 процентов. Сначала проверим модель на валидационном наборе данных, затем на тестовом."
   ]
  },
  {
   "cell_type": "markdown",
   "metadata": {},
   "source": [
    "<div style=\"border:solid green 2px; padding: 20px\"> <b>Отличная работа</b><br>\n",
    "Выборки разбиты корректно</div>       \n",
    "<br><div style=\"border:solid orange 2px; padding: 20px\"> <b>Что можно улучшить</b><br>\n",
    "В комментарии ошибка, так как 60+40+20 = 120%<br></div> \n",
    "<div class=\"alert alert-info\" style=\"border:solid blue 2px; padding: 20px\"> <b>Комментарий студента:</b> Исправил.</div>"
   ]
  },
  {
   "cell_type": "markdown",
   "metadata": {},
   "source": [
    "<div style=\"border:solid green 2px; padding: 20px\"> <b>Отличная работа 2</b><br>👍</div> "
   ]
  },
  {
   "cell_type": "markdown",
   "metadata": {},
   "source": [
    "## 3. Исследуйте модели"
   ]
  },
  {
   "cell_type": "markdown",
   "metadata": {},
   "source": [
    "Для решения задачи классификации применим данные модели и выберем лучшую.\n",
    "\n",
    "дерево решений / decision tree\n",
    "случайный лес / random forest\n",
    "логистическую регрессию / logistic regression"
   ]
  },
  {
   "cell_type": "code",
   "execution_count": 6,
   "metadata": {},
   "outputs": [],
   "source": [
    "features = users_behavior.drop(['is_ultra'], axis=1)\n",
    "target = users_behavior['is_ultra']\n",
    "#целевые признаки обучающей и валидационных выборок\n",
    "features_train = df_train.drop(['is_ultra'], axis=1)\n",
    "target_train = df_train['is_ultra']\n",
    "\n",
    "features_valid = df_valid.drop(['is_ultra'], axis=1)\n",
    "target_valid = df_valid['is_ultra']"
   ]
  },
  {
   "cell_type": "code",
   "execution_count": 7,
   "metadata": {},
   "outputs": [],
   "source": [
    "#Функция оценивающая качество модели.\n",
    "def accuracy_score_valid(model):\n",
    "    predictions_valid = model.predict(features_valid)\n",
    "    return accuracy_score(target_valid, predictions_valid)"
   ]
  },
  {
   "cell_type": "markdown",
   "metadata": {},
   "source": [
    "### Дерево решений"
   ]
  },
  {
   "cell_type": "code",
   "execution_count": 8,
   "metadata": {},
   "outputs": [
    {
     "name": "stdout",
     "output_type": "stream",
     "text": [
      "max_depth = 1:\t0.7542768273716952\n",
      "max_depth = 3:\t0.7853810264385692\n",
      "max_depth = 5:\t0.7791601866251944\n",
      "max_depth = 7:\t0.7822706065318819\n",
      "max_depth = 9:\t0.7822706065318819\n",
      "max_depth = 11:\t0.7620528771384136\n",
      "max_depth = 13:\t0.7558320373250389\n",
      "max_depth = 15:\t0.7465007776049767\n",
      "max_depth = 17:\t0.7356143079315708\n",
      "max_depth = 19:\t0.7278382581648523\n"
     ]
    }
   ],
   "source": [
    "# Влияет ли глубина дерева на оценку правильности?\n",
    "for max_depth in range(1, 21, 2):\n",
    "    model = DecisionTreeClassifier(max_depth=max_depth, random_state=12345)\n",
    "    model.fit(features_train, target_train)\n",
    "    print(f\"max_depth = {max_depth}:\\t{accuracy_score_valid(model)}\")"
   ]
  },
  {
   "cell_type": "markdown",
   "metadata": {},
   "source": [
    "Судя по валидационной выборке, дерево решений имеет самую высокую оценку правильности 0.7822706065318819, когда задан гиперпараметр глубины равен 7 и 9."
   ]
  },
  {
   "cell_type": "markdown",
   "metadata": {},
   "source": [
    "### Случайный лес"
   ]
  },
  {
   "cell_type": "code",
   "execution_count": 9,
   "metadata": {},
   "outputs": [
    {
     "name": "stdout",
     "output_type": "stream",
     "text": [
      "n_estimators = 10:\t0.7947122861586314\n",
      "n_estimators = 20:\t0.8009331259720062\n",
      "n_estimators = 30:\t0.80248833592535\n",
      "n_estimators = 40:\t0.80248833592535\n",
      "n_estimators = 50:\t0.80248833592535\n",
      "n_estimators = 60:\t0.7993779160186625\n",
      "n_estimators = 70:\t0.8009331259720062\n",
      "n_estimators = 80:\t0.7993779160186625\n",
      "n_estimators = 90:\t0.7993779160186625\n",
      "n_estimators = 100:\t0.8009331259720062\n"
     ]
    }
   ],
   "source": [
    "# Гиперпараметр глубины возьмем из пред. задания\n",
    "# Кол-во деревьев для нашего случайного леса будем искать в диапазоне от 10 до 100 с шагом 10.\n",
    "for estim in range(10, 101, 10):\n",
    "    model = RandomForestClassifier(n_estimators=estim, max_depth=7, random_state=12345)\n",
    "    model.fit(features_train, target_train)\n",
    "    print(f\"n_estimators = {estim}:\\t{accuracy_score_valid(model)}\")"
   ]
  },
  {
   "cell_type": "markdown",
   "metadata": {},
   "source": [
    "Разница есть, но она небольшая"
   ]
  },
  {
   "cell_type": "markdown",
   "metadata": {},
   "source": [
    "<div style=\"border:solid orange 2px; padding: 20px\"> <b>Что можно улучшить</b><br>\n",
    "Постараюсь, пояснить маленькую ошибку при определении оптимальных параметров для случайного леса<br>\n",
    "Представим, что на рисунке ниже изображена кривая обучения модели, по осям Х и Y отложены два гиперпарамера (кол-во деревьев и глубина), по оси Z метрика accuracy (не обращаем внимание на значения, представленные на рисунке). Используя раздельные циклы для 2 гиперпараметров (в твоем случае, ты жестко зафиксировал глубину, выбрав её из дерева решения), ты оказываешься в разных максимумах кривой, при этом совместно они дают результат далекий от ожидаемого. Поэтому перебирать нужно параметры вложенными циклами, чтобы отыскать лучшую пару. Надеюсь, немного прояснил \n",
    "    <br>\n",
    "<img src=http://storage.yandexcloud.net/public-bucket-6/%D0%BA%D1%80%D0%B8%D0%B2%D0%B0%D1%8F.png><br><br>\n",
    "Узнать больше <a href=\"https://dyakonov.org/tag/random-forest/\">Про параметры RandomForest</a></div>"
   ]
  },
  {
   "cell_type": "markdown",
   "metadata": {},
   "source": [
    "### Логистическая регрессия"
   ]
  },
  {
   "cell_type": "code",
   "execution_count": 10,
   "metadata": {},
   "outputs": [],
   "source": [
    "def logistic_regression(solver='liblinear'):\n",
    "    model = LogisticRegression(solver=solver, random_state=12345)\n",
    "    model.fit(features_train, target_train)\n",
    "    return accuracy_score_valid(model)"
   ]
  },
  {
   "cell_type": "code",
   "execution_count": 11,
   "metadata": {},
   "outputs": [
    {
     "data": {
      "text/plain": [
       "0.7589424572317263"
      ]
     },
     "execution_count": 11,
     "metadata": {},
     "output_type": "execute_result"
    }
   ],
   "source": [
    "logistic_regression()"
   ]
  },
  {
   "cell_type": "markdown",
   "metadata": {},
   "source": [
    "Логистическая регрессия показывает худшие результаты"
   ]
  },
  {
   "cell_type": "markdown",
   "metadata": {},
   "source": [
    "<div style=\"border:solid orange 2px; padding: 20px\"> <b>Что можно улучшить</b><br>\n",
    "По секрету, у логистической регрессии тоже есть гиперпараметры, например, <code>C</code><br><br>\n",
    "Перебирая гиперпараметры не всегда будешь выводить результат через <code>print</code> или ждать неизвестного - хочется следить за прогрессом - в этом может помочь библиотека <a href=\"https://github.com/tqdm/tqdm\">tqdm</a></div>  "
   ]
  },
  {
   "cell_type": "code",
   "execution_count": 12,
   "metadata": {},
   "outputs": [
    {
     "data": {
      "application/vnd.jupyter.widget-view+json": {
       "model_id": "cea6ef1ebab04a6193334ee9f25bd240",
       "version_major": 2,
       "version_minor": 0
      },
      "text/plain": [
       "HBox(children=(FloatProgress(value=0.0, description='depth', max=10.0, style=ProgressStyle(description_width='…"
      ]
     },
     "metadata": {},
     "output_type": "display_data"
    },
    {
     "data": {
      "application/vnd.jupyter.widget-view+json": {
       "model_id": "",
       "version_major": 2,
       "version_minor": 0
      },
      "text/plain": [
       "HBox(children=(FloatProgress(value=0.0, description='estim', max=10.0, style=ProgressStyle(description_width='…"
      ]
     },
     "metadata": {},
     "output_type": "display_data"
    },
    {
     "data": {
      "application/vnd.jupyter.widget-view+json": {
       "model_id": "",
       "version_major": 2,
       "version_minor": 0
      },
      "text/plain": [
       "HBox(children=(FloatProgress(value=0.0, description='estim', max=10.0, style=ProgressStyle(description_width='…"
      ]
     },
     "metadata": {},
     "output_type": "display_data"
    },
    {
     "data": {
      "application/vnd.jupyter.widget-view+json": {
       "model_id": "",
       "version_major": 2,
       "version_minor": 0
      },
      "text/plain": [
       "HBox(children=(FloatProgress(value=0.0, description='estim', max=10.0, style=ProgressStyle(description_width='…"
      ]
     },
     "metadata": {},
     "output_type": "display_data"
    },
    {
     "data": {
      "application/vnd.jupyter.widget-view+json": {
       "model_id": "",
       "version_major": 2,
       "version_minor": 0
      },
      "text/plain": [
       "HBox(children=(FloatProgress(value=0.0, description='estim', max=10.0, style=ProgressStyle(description_width='…"
      ]
     },
     "metadata": {},
     "output_type": "display_data"
    },
    {
     "data": {
      "application/vnd.jupyter.widget-view+json": {
       "model_id": "",
       "version_major": 2,
       "version_minor": 0
      },
      "text/plain": [
       "HBox(children=(FloatProgress(value=0.0, description='estim', max=10.0, style=ProgressStyle(description_width='…"
      ]
     },
     "metadata": {},
     "output_type": "display_data"
    },
    {
     "data": {
      "application/vnd.jupyter.widget-view+json": {
       "model_id": "",
       "version_major": 2,
       "version_minor": 0
      },
      "text/plain": [
       "HBox(children=(FloatProgress(value=0.0, description='estim', max=10.0, style=ProgressStyle(description_width='…"
      ]
     },
     "metadata": {},
     "output_type": "display_data"
    },
    {
     "data": {
      "application/vnd.jupyter.widget-view+json": {
       "model_id": "",
       "version_major": 2,
       "version_minor": 0
      },
      "text/plain": [
       "HBox(children=(FloatProgress(value=0.0, description='estim', max=10.0, style=ProgressStyle(description_width='…"
      ]
     },
     "metadata": {},
     "output_type": "display_data"
    },
    {
     "data": {
      "application/vnd.jupyter.widget-view+json": {
       "model_id": "",
       "version_major": 2,
       "version_minor": 0
      },
      "text/plain": [
       "HBox(children=(FloatProgress(value=0.0, description='estim', max=10.0, style=ProgressStyle(description_width='…"
      ]
     },
     "metadata": {},
     "output_type": "display_data"
    },
    {
     "data": {
      "application/vnd.jupyter.widget-view+json": {
       "model_id": "",
       "version_major": 2,
       "version_minor": 0
      },
      "text/plain": [
       "HBox(children=(FloatProgress(value=0.0, description='estim', max=10.0, style=ProgressStyle(description_width='…"
      ]
     },
     "metadata": {},
     "output_type": "display_data"
    },
    {
     "data": {
      "application/vnd.jupyter.widget-view+json": {
       "model_id": "",
       "version_major": 2,
       "version_minor": 0
      },
      "text/plain": [
       "HBox(children=(FloatProgress(value=0.0, description='estim', max=10.0, style=ProgressStyle(description_width='…"
      ]
     },
     "metadata": {},
     "output_type": "display_data"
    },
    {
     "name": "stdout",
     "output_type": "stream",
     "text": [
      "\n"
     ]
    }
   ],
   "source": [
    "from tqdm.notebook import tqdm\n",
    "import time\n",
    "for depth in tqdm(range(10), desc='depth'):\n",
    "    for estim in tqdm(range(10, 101, 10), desc='estim', leave=False):\n",
    "        time.sleep(0.05)"
   ]
  },
  {
   "cell_type": "markdown",
   "metadata": {},
   "source": [
    "<div class=\"alert alert-info\" style=\"border:solid blue 2px; padding: 20px\"> <b>Комментарий студента:</b> Спасибо за ценную инфу!</div>"
   ]
  },
  {
   "cell_type": "markdown",
   "metadata": {},
   "source": [
    "<div style=\"border:solid green 2px; padding: 20px\"> <b>Отличная работа 2</b><br>👍</div> "
   ]
  },
  {
   "cell_type": "markdown",
   "metadata": {},
   "source": [
    "## 4. Проверьте модель на тестовой выборке"
   ]
  },
  {
   "cell_type": "markdown",
   "metadata": {},
   "source": [
    "В результате экспериментов, мы поняли, что лучший результат показывает случайный лес решений. Параметр глубины 7 и кол-во деревьев 70 самый оптимальный вариант. Проверим его на тестовой выборке."
   ]
  },
  {
   "cell_type": "code",
   "execution_count": 13,
   "metadata": {},
   "outputs": [
    {
     "data": {
      "text/plain": [
       "0.80248833592535"
      ]
     },
     "execution_count": 13,
     "metadata": {},
     "output_type": "execute_result"
    }
   ],
   "source": [
    "features_test = df_test.drop(['is_ultra'], axis=1)\n",
    "target_test = df_test['is_ultra']\n",
    "\n",
    "model = RandomForestClassifier(n_estimators=70, max_depth=7, random_state=12345)\n",
    "model.fit(features_train, target_train)\n",
    "\n",
    "predictions_test = model.predict(features_test)\n",
    "accuracy_score(target_test, predictions_test)\n",
    "\n"
   ]
  },
  {
   "cell_type": "code",
   "execution_count": 14,
   "metadata": {},
   "outputs": [
    {
     "data": {
      "text/plain": [
       "0.8391412570006223"
      ]
     },
     "execution_count": 14,
     "metadata": {},
     "output_type": "execute_result"
    }
   ],
   "source": [
    "test = model.predict(features)\n",
    "accuracy_score(target,test)"
   ]
  },
  {
   "cell_type": "markdown",
   "metadata": {},
   "source": [
    "Значения практически равны! Это говорит о качестве модели. Проблемы с переобучением нет, поэтому можно сделать вывод, что мы правильно выполнили поставленную задачу."
   ]
  },
  {
   "cell_type": "markdown",
   "metadata": {},
   "source": [
    "<a class=\"anchor\" id=\"21-bullet\">"
   ]
  },
  {
   "cell_type": "markdown",
   "metadata": {},
   "source": [
    "<div style=\"border:solid red 2px; padding: 20px\"> <b>Что необходимо доработать</b><br>\n",
    "Классно, что получилась отличная и устойчивая модель. Чтобы еще более корректно проверить модель, необходимо объединить выборки <code>train\\valid</code> и обучить модель и проверить метрику на test</div>\n",
    "<div class=\"alert alert-info\" style=\"border:solid blue 2px; padding: 20px\"> <b>Комментарий студента:</b> Сделал features и target по выборке из общего датасета</div>\n",
    "<br>\n",
    "<div style=\"border:solid green 2px; padding: 20px\"> <b>Комментарий 2</b><br>\n",
    "Смотри, ты только протестировал модель на всех данных (из них модель видела 60% и не видела 40%). Нужно обучить модель на 80% данных (train\\valid) и протестировать на 20% (test).<br>\n",
    "    В этом поможет <code>pd.concat([df_train, df_valid])</code></div>   "
   ]
  },
  {
   "cell_type": "markdown",
   "metadata": {},
   "source": [
    "## 5. (бонус) Проверьте модели на адекватность"
   ]
  },
  {
   "cell_type": "markdown",
   "metadata": {},
   "source": [
    "Посчитаем количество перешедших на тариф \"смарт\" к общему количеству объектов в выборке. Посчитаю, сколько людей перешло на тариф смарт, по отношению к общему кол-ву объектов."
   ]
  },
  {
   "cell_type": "code",
   "execution_count": 15,
   "metadata": {},
   "outputs": [
    {
     "data": {
      "text/plain": [
       "0.693528313627878"
      ]
     },
     "execution_count": 15,
     "metadata": {},
     "output_type": "execute_result"
    }
   ],
   "source": [
    "(users_behavior['is_ultra']==0).sum() / users_behavior.shape[0]"
   ]
  },
  {
   "cell_type": "markdown",
   "metadata": {},
   "source": [
    "Доля равна ~0.69, в то время как полученная нами модель имеет accuracy ~0.79. Мы можем сделать вывод, наша модель считается адекватной для работы."
   ]
  },
  {
   "cell_type": "markdown",
   "metadata": {},
   "source": [
    "<div style=\"border:solid green 2px; padding: 20px\"> <b>Отличная работа</b><br>\n",
    "Молодец, действительно мы предсказываем много лучше константы</div>   "
   ]
  },
  {
   "cell_type": "markdown",
   "metadata": {},
   "source": [
    "<hr style=\"border: 2px solid green;\" />\n",
    "\n",
    "## Общий комментарий\n",
    "Спасибо за проделанную работу🤝\n",
    "\n",
    "Работа выполнена хорошо. Ты правильно разделил данные на выборки, обучая модель, нашел лучшие гиперпараметры и убедился в адекватности модели.\n",
    "\n",
    "Остались моменты, которые нужно поправить:\n",
    "- корректно протестировать модель\n",
    "- (рекомендую) поискать лучшие гиперпараметры для случайного леса, перебирая и глубину и кол-во деревьев\n",
    "- очень хочется увидеть общий вывод, его можно построить следующим образом:\n",
    "    - краткий обзор выполненных работ (выполнили, сделали, рассчитали)\n",
    "    - основные выводы (ответы на вопросы поставленные перед проектом)\n",
    "    - рекомендации (если они (рекомендации) возможны)\n",
    "    \n",
    "Исправляй и отправляй на проверку🛠"
   ]
  },
  {
   "cell_type": "markdown",
   "metadata": {},
   "source": [
    "## Чек-лист готовности проекта"
   ]
  },
  {
   "cell_type": "markdown",
   "metadata": {},
   "source": [
    "Поставьте 'x' в выполненных пунктах. Далее нажмите Shift+Enter."
   ]
  },
  {
   "cell_type": "markdown",
   "metadata": {},
   "source": [
    "- [x] Jupyter Notebook открыт\n",
    "- [x] Весь код исполняется без ошибок\n",
    "- [x] Ячейки с кодом расположены в порядке исполнения\n",
    "- [x] Выполнено задание 1: данные загружены и изучены\n",
    "- [x] Выполнено задание 2: данные разбиты на три выборки\n",
    "- [x] Выполнено задание 3: проведено исследование моделей\n",
    "    - [x] Рассмотрено больше одной модели\n",
    "    - [x] Рассмотрено хотя бы 3 значения гипепараметров для какой-нибудь модели\n",
    "    - [x] Написаны выводы по результатам исследования\n",
    "- [x] Выполнено задание 3: Проведено тестирование\n",
    "- [x] Удалось достичь accuracy не меньше 0.75\n"
   ]
  }
 ],
 "metadata": {
  "ExecuteTimeLog": [
   {
    "duration": 285,
    "start_time": "2021-10-14T10:01:38.250Z"
   },
   {
    "duration": 1187,
    "start_time": "2021-10-14T10:01:41.956Z"
   },
   {
    "duration": 24,
    "start_time": "2021-10-14T10:01:43.146Z"
   },
   {
    "duration": 12,
    "start_time": "2021-10-14T10:01:43.172Z"
   },
   {
    "duration": 17,
    "start_time": "2021-10-14T10:01:43.186Z"
   },
   {
    "duration": 8,
    "start_time": "2021-10-14T10:01:43.739Z"
   }
  ],
  "kernelspec": {
   "display_name": "Python 3",
   "language": "python",
   "name": "python3"
  },
  "language_info": {
   "codemirror_mode": {
    "name": "ipython",
    "version": 3
   },
   "file_extension": ".py",
   "mimetype": "text/x-python",
   "name": "python",
   "nbconvert_exporter": "python",
   "pygments_lexer": "ipython3",
   "version": "3.7.8"
  },
  "toc": {
   "base_numbering": 1,
   "nav_menu": {},
   "number_sections": true,
   "sideBar": true,
   "skip_h1_title": true,
   "title_cell": "Table of Contents",
   "title_sidebar": "Contents",
   "toc_cell": false,
   "toc_position": {},
   "toc_section_display": true,
   "toc_window_display": false
  }
 },
 "nbformat": 4,
 "nbformat_minor": 2
}
