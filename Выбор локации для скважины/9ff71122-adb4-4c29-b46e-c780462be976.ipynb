{
 "cells": [
  {
   "cell_type": "markdown",
   "metadata": {},
   "source": [
    "<div style=\"background: #cceeaa; padding: 5px; border: 1px solid green; border-radius: 5px;\">\n",
    "    <font color='green'> <b><u>КОММЕНТАРИЙ РЕВЬЮЕРА</u></b>\n",
    "\n",
    "Юрий, доброго дня! рад приветствовать тебя)<br />\n",
    "Сейчас большие выходные и большие праздники. С которыми тебя хотел бы тоже тебя поздравить!<br>\n",
    "А также, у нас сейчас новогодние каникулы - но у меня было свободное время и я решил проверить твою работу. Не могу обещать повторную проверку в течении 24 часов до конца каникул. Но 11 января все ревьюеры начнут работать в  штатном режиме и я обязательно увижу твой проект снова.<br>\n",
    "<br />\n",
    "Меня зовут Николай Шавлюго. <br />И на этом этапе твоего движения к новой профессии от меня будут комментарии по написанному коду. <br />Чтобы меньше \"мусорить эфир\" и чтобы максимально наглядно отделяться от основного кода, есть предложение условиться в некоторых обозначениях:<br /> <br />\n",
    "<u><b>ТАКОЙ ШРИФТ</b></u> - всегда начало комментария <br />\n",
    "<font color='green'>такой шрифт</font> - комментарии о том, что всё ОК <br/>\n",
    "<font color='orange'>такой шрифт</font> - комментарии о том, что всё ОК по результату,<br> однако есть на что обратить внимание в плане применения техник, или есть способы сделать более короткий или быстрый код <br/>\n",
    "<font color='red'>такой шрифт</font> - комментарии о том, что есть критичный момент, влияющий на бизнес-результат проекта.<br/>\n",
    "</font><br /><br />\n",
    "<font color='green'>Моей целью является не \"уличить\" в не знании, а просто высказать сверху твоих знаний - свой опыт, что бы ты мог использовать его для своего дальнейшего успеха) И очень здорово будет, если тебе удастся задавать вопросы, да и вообще - всячески доставать меня, если я по каким-то причинам не приму проект:) При этом, из своего опыта скажу, хорошо и важно, когда переписка ревьюера и студента - сохраняется на следующие проекты и даже на будущую практическую деятельность.<br>\n",
    "<br> Я сразу же начал общаться на ты:) но если это не очень удобно, то дай знать))<BR> В ПУТЬ!<br>"
   ]
  },
  {
   "cell_type": "markdown",
   "metadata": {},
   "source": [
    "# Описание проекта"
   ]
  },
  {
   "cell_type": "markdown",
   "metadata": {},
   "source": [
    "Допустим, вы работаете в добывающей компании «ГлавРосГосНефть». Нужно решить, где бурить новую скважину.\n",
    "\n",
    "Вам предоставлены пробы нефти в трёх регионах: в каждом 10 000 месторождений, где измерили качество нефти и объём её запасов. Постройте модель машинного обучения, которая поможет определить регион, где добыча принесёт наибольшую прибыль. Проанализируйте возможную прибыль и риски техникой *Bootstrap.*\n",
    "\n",
    "Шаги для выбора локации:\n",
    "\n",
    "- В избранном регионе ищут месторождения, для каждого определяют значения признаков;\n",
    "- Строят модель и оценивают объём запасов;\n",
    "- Выбирают месторождения с самым высокими оценками значений. Количество месторождений зависит от бюджета компании и стоимости разработки одной скважины;\n",
    "- Прибыль равна суммарной прибыли отобранных месторождений."
   ]
  },
  {
   "cell_type": "markdown",
   "metadata": {},
   "source": [
    "# 1. Загрузка и подготовка данных"
   ]
  },
  {
   "cell_type": "code",
   "execution_count": 1,
   "metadata": {},
   "outputs": [
    {
     "data": {
      "text/plain": [
       "'en_US.UTF-8'"
      ]
     },
     "execution_count": 1,
     "metadata": {},
     "output_type": "execute_result"
    }
   ],
   "source": [
    "#Импортируем данные\n",
    "import pandas as pd\n",
    "import numpy as np\n",
    "import seaborn as sns\n",
    "from matplotlib import pyplot as plt\n",
    "sns.set()\n",
    "\n",
    "\n",
    "\n",
    "import warnings\n",
    "warnings.filterwarnings('ignore')\n",
    "\n",
    "from scipy import stats as st \n",
    "from sklearn import metrics\n",
    "from sklearn.metrics import roc_curve, roc_auc_score, r2_score, mean_absolute_error\n",
    "from sklearn.metrics import mean_squared_error # as mse\n",
    "from sklearn.preprocessing import StandardScaler\n",
    "from sklearn.tree import DecisionTreeRegressor\n",
    "from sklearn.ensemble import RandomForestRegressor\n",
    "from sklearn.linear_model import LogisticRegression, LinearRegression\n",
    "from sklearn.model_selection import train_test_split,cross_val_score, GridSearchCV, StratifiedShuffleSplit\n",
    "import locale\n",
    "locale.setlocale(locale.LC_ALL, '')\n",
    "#g0 = pd.read_csv('/datasets/geo_data_0.csv')\n",
    "#g1= pd.read_csv('/datasets/geo_data_1.csv')\n",
    "#g2= pd.read_csv('/datasets/geo_data_2.csv')\n",
    "\n"
   ]
  },
  {
   "cell_type": "code",
   "execution_count": 2,
   "metadata": {},
   "outputs": [],
   "source": [
    "g0 = pd.read_csv('/datasets/geo_data_0.csv')\n",
    "g1= pd.read_csv('/datasets/geo_data_1.csv')\n",
    "g2= pd.read_csv('/datasets/geo_data_2.csv')"
   ]
  },
  {
   "cell_type": "markdown",
   "metadata": {},
   "source": [
    "### Сбросим столбец ID"
   ]
  },
  {
   "cell_type": "code",
   "execution_count": 3,
   "metadata": {},
   "outputs": [],
   "source": [
    "g0 = g0.drop('id', axis=1)\n",
    "g1 = g1.drop('id', axis=1)\n",
    "g2 = g2.drop('id', axis=1)\n"
   ]
  },
  {
   "cell_type": "markdown",
   "metadata": {},
   "source": [
    "### Проверим основную информацию по данным"
   ]
  },
  {
   "cell_type": "code",
   "execution_count": 4,
   "metadata": {},
   "outputs": [
    {
     "name": "stdout",
     "output_type": "stream",
     "text": [
      "<class 'pandas.core.frame.DataFrame'>\n",
      "RangeIndex: 100000 entries, 0 to 99999\n",
      "Data columns (total 4 columns):\n",
      "f0         100000 non-null float64\n",
      "f1         100000 non-null float64\n",
      "f2         100000 non-null float64\n",
      "product    100000 non-null float64\n",
      "dtypes: float64(4)\n",
      "memory usage: 3.1 MB\n"
     ]
    },
    {
     "data": {
      "text/html": [
       "<div>\n",
       "<style scoped>\n",
       "    .dataframe tbody tr th:only-of-type {\n",
       "        vertical-align: middle;\n",
       "    }\n",
       "\n",
       "    .dataframe tbody tr th {\n",
       "        vertical-align: top;\n",
       "    }\n",
       "\n",
       "    .dataframe thead th {\n",
       "        text-align: right;\n",
       "    }\n",
       "</style>\n",
       "<table border=\"1\" class=\"dataframe\">\n",
       "  <thead>\n",
       "    <tr style=\"text-align: right;\">\n",
       "      <th></th>\n",
       "      <th>f0</th>\n",
       "      <th>f1</th>\n",
       "      <th>f2</th>\n",
       "      <th>product</th>\n",
       "    </tr>\n",
       "  </thead>\n",
       "  <tbody>\n",
       "    <tr>\n",
       "      <td>0</td>\n",
       "      <td>0.705745</td>\n",
       "      <td>-0.497823</td>\n",
       "      <td>1.221170</td>\n",
       "      <td>105.280062</td>\n",
       "    </tr>\n",
       "    <tr>\n",
       "      <td>1</td>\n",
       "      <td>1.334711</td>\n",
       "      <td>-0.340164</td>\n",
       "      <td>4.365080</td>\n",
       "      <td>73.037750</td>\n",
       "    </tr>\n",
       "    <tr>\n",
       "      <td>2</td>\n",
       "      <td>1.022732</td>\n",
       "      <td>0.151990</td>\n",
       "      <td>1.419926</td>\n",
       "      <td>85.265647</td>\n",
       "    </tr>\n",
       "    <tr>\n",
       "      <td>3</td>\n",
       "      <td>-0.032172</td>\n",
       "      <td>0.139033</td>\n",
       "      <td>2.978566</td>\n",
       "      <td>168.620776</td>\n",
       "    </tr>\n",
       "    <tr>\n",
       "      <td>4</td>\n",
       "      <td>1.988431</td>\n",
       "      <td>0.155413</td>\n",
       "      <td>4.751769</td>\n",
       "      <td>154.036647</td>\n",
       "    </tr>\n",
       "  </tbody>\n",
       "</table>\n",
       "</div>"
      ],
      "text/plain": [
       "         f0        f1        f2     product\n",
       "0  0.705745 -0.497823  1.221170  105.280062\n",
       "1  1.334711 -0.340164  4.365080   73.037750\n",
       "2  1.022732  0.151990  1.419926   85.265647\n",
       "3 -0.032172  0.139033  2.978566  168.620776\n",
       "4  1.988431  0.155413  4.751769  154.036647"
      ]
     },
     "execution_count": 4,
     "metadata": {},
     "output_type": "execute_result"
    }
   ],
   "source": [
    "g0.info()\n",
    "g0.head()"
   ]
  },
  {
   "cell_type": "code",
   "execution_count": 5,
   "metadata": {},
   "outputs": [
    {
     "name": "stdout",
     "output_type": "stream",
     "text": [
      "<class 'pandas.core.frame.DataFrame'>\n",
      "RangeIndex: 100000 entries, 0 to 99999\n",
      "Data columns (total 4 columns):\n",
      "f0         100000 non-null float64\n",
      "f1         100000 non-null float64\n",
      "f2         100000 non-null float64\n",
      "product    100000 non-null float64\n",
      "dtypes: float64(4)\n",
      "memory usage: 3.1 MB\n"
     ]
    },
    {
     "data": {
      "text/html": [
       "<div>\n",
       "<style scoped>\n",
       "    .dataframe tbody tr th:only-of-type {\n",
       "        vertical-align: middle;\n",
       "    }\n",
       "\n",
       "    .dataframe tbody tr th {\n",
       "        vertical-align: top;\n",
       "    }\n",
       "\n",
       "    .dataframe thead th {\n",
       "        text-align: right;\n",
       "    }\n",
       "</style>\n",
       "<table border=\"1\" class=\"dataframe\">\n",
       "  <thead>\n",
       "    <tr style=\"text-align: right;\">\n",
       "      <th></th>\n",
       "      <th>f0</th>\n",
       "      <th>f1</th>\n",
       "      <th>f2</th>\n",
       "      <th>product</th>\n",
       "    </tr>\n",
       "  </thead>\n",
       "  <tbody>\n",
       "    <tr>\n",
       "      <td>0</td>\n",
       "      <td>-15.001348</td>\n",
       "      <td>-8.276000</td>\n",
       "      <td>-0.005876</td>\n",
       "      <td>3.179103</td>\n",
       "    </tr>\n",
       "    <tr>\n",
       "      <td>1</td>\n",
       "      <td>14.272088</td>\n",
       "      <td>-3.475083</td>\n",
       "      <td>0.999183</td>\n",
       "      <td>26.953261</td>\n",
       "    </tr>\n",
       "    <tr>\n",
       "      <td>2</td>\n",
       "      <td>6.263187</td>\n",
       "      <td>-5.948386</td>\n",
       "      <td>5.001160</td>\n",
       "      <td>134.766305</td>\n",
       "    </tr>\n",
       "    <tr>\n",
       "      <td>3</td>\n",
       "      <td>-13.081196</td>\n",
       "      <td>-11.506057</td>\n",
       "      <td>4.999415</td>\n",
       "      <td>137.945408</td>\n",
       "    </tr>\n",
       "    <tr>\n",
       "      <td>4</td>\n",
       "      <td>12.702195</td>\n",
       "      <td>-8.147433</td>\n",
       "      <td>5.004363</td>\n",
       "      <td>134.766305</td>\n",
       "    </tr>\n",
       "  </tbody>\n",
       "</table>\n",
       "</div>"
      ],
      "text/plain": [
       "          f0         f1        f2     product\n",
       "0 -15.001348  -8.276000 -0.005876    3.179103\n",
       "1  14.272088  -3.475083  0.999183   26.953261\n",
       "2   6.263187  -5.948386  5.001160  134.766305\n",
       "3 -13.081196 -11.506057  4.999415  137.945408\n",
       "4  12.702195  -8.147433  5.004363  134.766305"
      ]
     },
     "execution_count": 5,
     "metadata": {},
     "output_type": "execute_result"
    }
   ],
   "source": [
    "g1.info()\n",
    "g1.head()"
   ]
  },
  {
   "cell_type": "code",
   "execution_count": 6,
   "metadata": {},
   "outputs": [
    {
     "name": "stdout",
     "output_type": "stream",
     "text": [
      "<class 'pandas.core.frame.DataFrame'>\n",
      "RangeIndex: 100000 entries, 0 to 99999\n",
      "Data columns (total 4 columns):\n",
      "f0         100000 non-null float64\n",
      "f1         100000 non-null float64\n",
      "f2         100000 non-null float64\n",
      "product    100000 non-null float64\n",
      "dtypes: float64(4)\n",
      "memory usage: 3.1 MB\n"
     ]
    },
    {
     "data": {
      "text/html": [
       "<div>\n",
       "<style scoped>\n",
       "    .dataframe tbody tr th:only-of-type {\n",
       "        vertical-align: middle;\n",
       "    }\n",
       "\n",
       "    .dataframe tbody tr th {\n",
       "        vertical-align: top;\n",
       "    }\n",
       "\n",
       "    .dataframe thead th {\n",
       "        text-align: right;\n",
       "    }\n",
       "</style>\n",
       "<table border=\"1\" class=\"dataframe\">\n",
       "  <thead>\n",
       "    <tr style=\"text-align: right;\">\n",
       "      <th></th>\n",
       "      <th>f0</th>\n",
       "      <th>f1</th>\n",
       "      <th>f2</th>\n",
       "      <th>product</th>\n",
       "    </tr>\n",
       "  </thead>\n",
       "  <tbody>\n",
       "    <tr>\n",
       "      <td>0</td>\n",
       "      <td>-1.146987</td>\n",
       "      <td>0.963328</td>\n",
       "      <td>-0.828965</td>\n",
       "      <td>27.758673</td>\n",
       "    </tr>\n",
       "    <tr>\n",
       "      <td>1</td>\n",
       "      <td>0.262778</td>\n",
       "      <td>0.269839</td>\n",
       "      <td>-2.530187</td>\n",
       "      <td>56.069697</td>\n",
       "    </tr>\n",
       "    <tr>\n",
       "      <td>2</td>\n",
       "      <td>0.194587</td>\n",
       "      <td>0.289035</td>\n",
       "      <td>-5.586433</td>\n",
       "      <td>62.871910</td>\n",
       "    </tr>\n",
       "    <tr>\n",
       "      <td>3</td>\n",
       "      <td>2.236060</td>\n",
       "      <td>-0.553760</td>\n",
       "      <td>0.930038</td>\n",
       "      <td>114.572842</td>\n",
       "    </tr>\n",
       "    <tr>\n",
       "      <td>4</td>\n",
       "      <td>-0.515993</td>\n",
       "      <td>1.716266</td>\n",
       "      <td>5.899011</td>\n",
       "      <td>149.600746</td>\n",
       "    </tr>\n",
       "  </tbody>\n",
       "</table>\n",
       "</div>"
      ],
      "text/plain": [
       "         f0        f1        f2     product\n",
       "0 -1.146987  0.963328 -0.828965   27.758673\n",
       "1  0.262778  0.269839 -2.530187   56.069697\n",
       "2  0.194587  0.289035 -5.586433   62.871910\n",
       "3  2.236060 -0.553760  0.930038  114.572842\n",
       "4 -0.515993  1.716266  5.899011  149.600746"
      ]
     },
     "execution_count": 6,
     "metadata": {},
     "output_type": "execute_result"
    }
   ],
   "source": [
    "g2.info()\n",
    "g2.head()"
   ]
  },
  {
   "cell_type": "markdown",
   "metadata": {},
   "source": [
    "## Вывод "
   ]
  },
  {
   "cell_type": "markdown",
   "metadata": {},
   "source": [
    "С данными всё в порядке. Все имеют тип данных float64. Можем переходить к обучению и проверки моделей."
   ]
  },
  {
   "cell_type": "markdown",
   "metadata": {},
   "source": [
    "<div style=\"background: #cceeaa; padding: 5px; border: 1px solid green; border-radius: 5px;\">\n",
    "    <font color='green'> <b><u>КОММЕНТАРИЙ РЕВЬЮЕРА</u></b>\n",
    "</font>\n",
    "<font color='green'><br>\n",
    "Данные на базе) ОК, хорошо, когда есть аналитическая культура - обязательно делать первичный анализ данных, не смотря на проект)"
   ]
  },
  {
   "cell_type": "markdown",
   "metadata": {},
   "source": [
    "# 2. Обучение и проверка модели"
   ]
  },
  {
   "cell_type": "markdown",
   "metadata": {},
   "source": [
    "Я буду поочередно обучать и проверять модели, по территориям."
   ]
  },
  {
   "cell_type": "markdown",
   "metadata": {},
   "source": [
    "## Первая модель"
   ]
  },
  {
   "cell_type": "code",
   "execution_count": 50,
   "metadata": {},
   "outputs": [],
   "source": [
    "target0 = g0['product']\n",
    "features0= g0.drop('product', axis=1)\n",
    "numeric = ['f0', 'f1', 'f2']"
   ]
  },
  {
   "cell_type": "code",
   "execution_count": 51,
   "metadata": {},
   "outputs": [],
   "source": [
    "state = np.random.RandomState(12345)"
   ]
  },
  {
   "cell_type": "code",
   "execution_count": 52,
   "metadata": {},
   "outputs": [
    {
     "name": "stdout",
     "output_type": "stream",
     "text": [
      "g0:\n",
      "RMSE = 37.5794217150813\n",
      "mean = 92.59256778438038\n",
      "R2 = 0.27994321524487786\n"
     ]
    }
   ],
   "source": [
    "features_train0, features_valid0, target_train0, target_valid0 = train_test_split(\n",
    "   features0, target0, test_size=0.25, random_state=state)\n",
    "#scaler = StandardScaler()\n",
    "#scaler.fit(features_train0[numeric])\n",
    "#features_train0[numeric] = scaler.transform(features_train0[numeric])\n",
    "#features_valid0[numeric] = scaler.transform(features_valid0[numeric])\n",
    "model = LinearRegression()\n",
    "model.fit(features_train0, target_train0)\n",
    "predict0 = model.predict(features_valid0)\n",
    "mse0 = mean_squared_error(target_valid0, predict0)\n",
    "print(\"g0:\")\n",
    "print(\"RMSE =\", mse0 ** 0.5)\n",
    "print(\"mean =\", predict0.mean())\n",
    "print(\"R2 =\", r2_score(target_valid0, predict0))\n"
   ]
  },
  {
   "cell_type": "markdown",
   "metadata": {},
   "source": [
    "## Вторая модель"
   ]
  },
  {
   "cell_type": "code",
   "execution_count": 53,
   "metadata": {},
   "outputs": [],
   "source": [
    "target1 = g1['product']\n",
    "features1= g1.drop('product', axis=1)"
   ]
  },
  {
   "cell_type": "code",
   "execution_count": 54,
   "metadata": {},
   "outputs": [
    {
     "name": "stdout",
     "output_type": "stream",
     "text": [
      "\n",
      "g1:\n",
      "RMSE = 0.8930992867756158\n",
      "mean = 68.728546895446\n",
      "R2 = 0.9996233978805127\n"
     ]
    }
   ],
   "source": [
    "\n",
    "features_train1, features_valid1, target_train1, target_valid1 = train_test_split(\n",
    "   features1, target1, test_size=0.25, random_state=12345)\n",
    "numeric = ['f0', 'f1', 'f2']\n",
    "scaler.fit(features_train1[numeric])\n",
    "features_train1[numeric] = scaler.transform(features_train1[numeric])\n",
    "features_valid1[numeric] = scaler.transform(features_valid1[numeric])\n",
    "model.fit(features_train1, target_train1)\n",
    "predict1 = model.predict(features_valid1)\n",
    "mse1 = mean_squared_error(target_valid1, predict1)\n",
    "print(\"\")\n",
    "print(\"g1:\")\n",
    "print(\"RMSE =\", mse1 ** 0.5)\n",
    "print(\"mean =\", predict1.mean())\n",
    "print(\"R2 =\", r2_score(target_valid1, predict1))"
   ]
  },
  {
   "cell_type": "markdown",
   "metadata": {},
   "source": [
    "## Третья модель"
   ]
  },
  {
   "cell_type": "code",
   "execution_count": 55,
   "metadata": {},
   "outputs": [],
   "source": [
    "target2 = g2['product']\n",
    "features2= g2.drop('product', axis=1)"
   ]
  },
  {
   "cell_type": "code",
   "execution_count": 56,
   "metadata": {},
   "outputs": [
    {
     "name": "stdout",
     "output_type": "stream",
     "text": [
      "\n",
      "g2:\n",
      "RMSE = 40.02970873393434\n",
      "mean = 94.96504596800489\n",
      "R2 = 0.20524758386040443\n"
     ]
    }
   ],
   "source": [
    "features_train2, features_valid2, target_train2, target_valid2 = train_test_split(\n",
    "   features2, target2, test_size=0.25, random_state=12345)\n",
    "scaler.fit(features_train2[numeric])\n",
    "features_train2[numeric] = scaler.transform(features_train2[numeric])\n",
    "features_valid2[numeric] = scaler.transform(features_valid2[numeric])\n",
    "model.fit(features_train2, target_train2)\n",
    "predict2 = model.predict(features_valid2)\n",
    "mse2 = mean_squared_error(target_valid2, predict2)\n",
    "print(\"\")\n",
    "print(\"g2:\")\n",
    "print(\"RMSE =\", mse2 ** 0.5)\n",
    "print(\"mean =\", predict2.mean())\n",
    "print(\"R2 =\", r2_score(target_valid2, predict2))"
   ]
  },
  {
   "cell_type": "markdown",
   "metadata": {},
   "source": [
    "## Вывод"
   ]
  },
  {
   "cell_type": "markdown",
   "metadata": {},
   "source": [
    "В модели номер 2, метрика RMSE меньше всех. В 3 модели средний запас больше всего, однако RMSE хуже всего. Лучше всех показала себя g1, т.к был небольшой объем данных."
   ]
  },
  {
   "cell_type": "markdown",
   "metadata": {},
   "source": [
    "<div style=\"background: #cceeaa; padding: 5px; border: 1px solid green; border-radius: 5px;\">\n",
    "    <font color='green'> <b><u>КОММЕНТАРИЙ РЕВЬЮЕРА</u></b>\n",
    "</font>\n",
    "<font color='green'><br>\n",
    "Отлично, с расчётами согласен.<br>\n",
    "Единственное - все три региона имеют одинаковые расчёты. Следовательно можно автоматизировать и тем самым уменьшить количество кода)"
   ]
  },
  {
   "cell_type": "markdown",
   "metadata": {},
   "source": [
    "# 3. Подготовка к расчёту прибыли"
   ]
  },
  {
   "cell_type": "markdown",
   "metadata": {},
   "source": [
    "Исходя из полученных данных, можно сделать вывод, что любой регион подходит нам, и компания будет в плюсе."
   ]
  },
  {
   "cell_type": "code",
   "execution_count": 57,
   "metadata": {},
   "outputs": [],
   "source": [
    "POINT_PER_REGION = 500\n",
    "BUDGET = 10000000000\n",
    "COST_PER_WELL = 50000000\n",
    "COST_ONE_BAREL = 450000\n",
    "RISK = 0.025"
   ]
  },
  {
   "cell_type": "code",
   "execution_count": 58,
   "metadata": {},
   "outputs": [
    {
     "data": {
      "text/plain": [
       "200.0"
      ]
     },
     "execution_count": 58,
     "metadata": {},
     "output_type": "execute_result"
    }
   ],
   "source": [
    "BUDGET/COST_PER_WELL"
   ]
  },
  {
   "cell_type": "code",
   "execution_count": 59,
   "metadata": {},
   "outputs": [
    {
     "name": "stdout",
     "output_type": "stream",
     "text": [
      "Необходимый запас барелей, чтобы произошла окупаемость 200 скважин = 22223\n",
      "Необходимый запас барелей на одну скважину = 111.0\n",
      "ROI = 0.00\n"
     ]
    }
   ],
   "source": [
    "def roi(revenue, investment):\n",
    "    return (revenue-investment)/investment\n",
    "    \n",
    "roi_coef = 1    \n",
    "for amount in range(1000, 1000000000000, 1):\n",
    "    if roi(COST_ONE_BAREL*amount, BUDGET)>0:\n",
    "        print('Необходимый запас барелей, чтобы произошла окупаемость 200 скважин =',amount)\n",
    "        print('Необходимый запас барелей на одну скважину =', round(amount/200,0))\n",
    "        print('ROI = {:.2f}'.format(roi(COST_ONE_BAREL*amount, BUDGET)))\n",
    "        break"
   ]
  },
  {
   "cell_type": "markdown",
   "metadata": {},
   "source": [
    "<div style=\"background: #cceeaa; padding: 5px; border: 1px solid green; border-radius: 5px;\">\n",
    "    <font color='green'> <b><u>КОММЕНТАРИЙ РЕВЬЮЕРА 2</u></b>\n",
    "</font>\n",
    "<font color='red'><br> у нас должно быть 111 на скважину. При задании константы COST_ONE_BAREL надо сделать 450000\n",
    "<font color='blue'><br> Сделано"
   ]
  },
  {
   "cell_type": "code",
   "execution_count": 60,
   "metadata": {},
   "outputs": [],
   "source": [
    "# БЫЛО\n",
    "pred_LR_reg1_s = pd.Series(predict0, index=range(25000))\n",
    "pred_LR_reg2_s = pd.Series(predict1, index=range(25000))\n",
    "pred_LR_reg3_s = pd.Series(predict2, index=range(25000))\n",
    "\n",
    "y_test_1_s = pd.Series(target0).reset_index(drop=True)\n",
    "y_test_2_s = pd.Series(target1).reset_index(drop=True)\n",
    "y_test_3_s = pd.Series(target2).reset_index(drop=True)"
   ]
  },
  {
   "cell_type": "code",
   "execution_count": 66,
   "metadata": {},
   "outputs": [],
   "source": [
    "# СТАЛО\n",
    "pred_LR_reg1_s = pd.Series(predict0, index=range(25000))\n",
    "pred_LR_reg2_s = pd.Series(predict1, index=range(25000))\n",
    "pred_LR_reg3_s = pd.Series(predict2, index=range(25000))\n",
    "\n",
    "y_test_1_s = pd.Series(target_valid0).reset_index(drop=True)\n",
    "y_test_2_s = pd.Series(target_valid1).reset_index(drop=True)\n",
    "y_test_3_s = pd.Series(target_valid2).reset_index(drop=True)"
   ]
  },
  {
   "cell_type": "code",
   "execution_count": 67,
   "metadata": {},
   "outputs": [
    {
     "data": {
      "text/plain": [
       "<zip at 0x7fdadfa437d0>"
      ]
     },
     "execution_count": 67,
     "metadata": {},
     "output_type": "execute_result"
    }
   ],
   "source": [
    "sample_pred = {\\\n",
    "               'predictions_linear_r1':pred_LR_reg1_s,\\\n",
    "               'predictions_linear_r2':pred_LR_reg2_s,\\\n",
    "               'predictions_linear_r3':pred_LR_reg3_s}\n",
    "sample_y = {\\\n",
    "            'y_test_1':y_test_1_s,\\\n",
    "            'y_test_2':y_test_2_s,\\\n",
    "            'y_test_3':y_test_3_s}\n",
    "\n",
    "zips = zip(sample_y.values(), sample_pred.values())\n",
    "zips"
   ]
  },
  {
   "cell_type": "markdown",
   "metadata": {},
   "source": [
    "### Необходимые функции для расчета"
   ]
  },
  {
   "cell_type": "markdown",
   "metadata": {},
   "source": [
    "<div style=\"background: #cceeaa; padding: 5px; border: 1px solid green; border-radius: 5px;\">\n",
    "    <font color='green'> <b><u>КОММЕНТАРИЙ РЕВЬЮЕРА 2</u></b>\n",
    "</font>\n",
    "<font color='red'><br> 1) если выше скорректировать COST_ONE_BAREL, то нужно ли ниже умножать на 1000?<br>\n",
    "2) может лучше здесь сразу оформить функцию прибыли? <br>\n",
    "3) в функцию revenue в mean_revenue_and_std надо посылать target_subsample, а не target\n",
    "<font color='blue'><br> Сделал"
   ]
  },
  {
   "cell_type": "code",
   "execution_count": 68,
   "metadata": {},
   "outputs": [],
   "source": [
    "def revenue(target, probabilities, count):\n",
    "    probs_sorted = probabilities.sort_values(ascending=False)\n",
    "    selected = target[probs_sorted.index][:count]\n",
    "    return COST_ONE_BAREL * selected.sum()\n",
    "\n",
    "# РЕВЬЮЕР: нужна ли здесь 1000? И второе: здесь не учитывается затраты, т.е. это не прибыль, а просто выручка.\n",
    "\n",
    "def gross_profit(revenue, cost):\n",
    "    return revenue - cost\n",
    "\n",
    "def mean_revenue_and_std(target, probabilities, max_point_well=500, well=200, quantile=0.05):\n",
    "\n",
    "    state = np.random.RandomState(12345)\n",
    "\n",
    "    #храним выручку\n",
    "    values = []\n",
    "    for i in range(1000):\n",
    "        #поиск средней выручки\n",
    "        target_subsample = target.sample(n=max_point_well, replace=True, random_state=state)\n",
    "        probs_subsample = probabilities[target_subsample.index]\n",
    "        values.append(revenue(target_subsample, probs_subsample, well))\n",
    "\n",
    "        # РЕВЬЮЕР: в функцию revenue надо посылать target_subsample, а не target\n",
    "    \n",
    "    values = pd.Series(values)\n",
    "    \n",
    "   # loss = len(values[values<0])/len(values)\n",
    "   # print('loss',loss)\n",
    "   \n",
    "    loss = ((values-BUDGET)<0).mean()\n",
    "    print('Risk',loss*100,'%')    \n",
    "    \n",
    "    \n",
    "    lower = values.quantile(0.05)\n",
    "    \n",
    "    #Выручка\n",
    "    mean = values.mean()\n",
    "    print(\"Средняя выручка:\", locale.format('%d', mean, grouping=True))\n",
    "    print(\"Средняя выручка 2:\", mean)\n",
    "    \n",
    "    #Коэффициент возврата инвестиций\n",
    "    roi_coef = abs(roi(BUDGET, mean))\n",
    "    print('roi_coef', roi_coef)\n",
    "    \n",
    "    #нижняя граница доверительного интервала прибыли - 95%\n",
    "    lower_private = values.quantile(.025) - BUDGET \n",
    "    print('lower_private',locale.format('%d', lower_private, grouping=True))\n",
    "    \n",
    "    #верхняя граница доверительного интервала прибыли - 95%\n",
    "    upper_private = values.quantile(.975) - BUDGET   \n",
    "    print('upper_private',locale.format('%d', upper_private, grouping=True))\n",
    "    \n",
    "    gross_prof = gross_profit(mean, BUDGET) \n",
    "    print('gross_prof',locale.format('%d', gross_prof, grouping=True))\n",
    "\n",
    "    return values, mean, lower_private, upper_private, gross_prof, roi_coef"
   ]
  },
  {
   "cell_type": "markdown",
   "metadata": {},
   "source": [
    "<div style=\"background: #cceeaa; padding: 5px; border: 1px solid green; border-radius: 5px;\">\n",
    "\n",
    "<br><font color='BLUE'> \n",
    "<b><u>КОММЕНТАРИЙ УЧЕНИКА</u></b>\n",
    "</font><br>\n",
    "<font color='red'><br>\n",
    "Переделал блок с расчетами, поэтому удалил предыдущий код. Новый вариант, я считаю, более структурированным и правильным."
   ]
  },
  {
   "cell_type": "markdown",
   "metadata": {},
   "source": [
    "# 4. Расчёт прибыли и рисков "
   ]
  },
  {
   "cell_type": "markdown",
   "metadata": {},
   "source": [
    "Расчитывать прибыль буду так-же, деля на регионы."
   ]
  },
  {
   "cell_type": "markdown",
   "metadata": {},
   "source": [
    "<div style=\"background: #cceeaa; padding: 5px; border: 1px solid green; border-radius: 5px;\">\n",
    "<font color='green'> \n",
    "\n",
    "<br><font color='BLUE'> \n",
    "<b><u>КОММЕНТАРИЙ УЧЕНИКА</u></b>\n",
    "</font><br>\n",
    "<font color='red'><br>\n",
    "Опять таки, тут тоже удалил предыдущие шаги и полностью переделал анализ."
   ]
  },
  {
   "cell_type": "code",
   "execution_count": 69,
   "metadata": {},
   "outputs": [
    {
     "name": "stdout",
     "output_type": "stream",
     "text": [
      "\n",
      "Регион 1:\n",
      "Risk 6.0 %\n",
      "Средняя выручка: 10,425,938,526\n",
      "Средняя выручка 2: 10425938526.910593\n",
      "roi_coef 0.04085373473200468\n",
      "lower_private -102,090,094\n",
      "upper_private 947,976,353\n",
      "gross_prof 425,938,526\n",
      "\n",
      "Регион 2:\n",
      "Risk 1.0 %\n",
      "Средняя выручка: 10,515,222,773\n",
      "Средняя выручка 2: 10515222773.44329\n",
      "roi_coef 0.04899779914739524\n",
      "lower_private 68,873,225\n",
      "upper_private 931,547,591\n",
      "gross_prof 515,222,773\n",
      "\n",
      "Регион 3:\n",
      "Risk 6.4 %\n",
      "Средняя выручка: 10,435,008,362\n",
      "Средняя выручка 2: 10435008362.782757\n",
      "roi_coef 0.04168739953618503\n",
      "lower_private -128,880,547\n",
      "upper_private 969,706,954\n",
      "gross_prof 435,008,362\n"
     ]
    },
    {
     "data": {
      "text/html": [
       "<div>\n",
       "<style scoped>\n",
       "    .dataframe tbody tr th:only-of-type {\n",
       "        vertical-align: middle;\n",
       "    }\n",
       "\n",
       "    .dataframe tbody tr th {\n",
       "        vertical-align: top;\n",
       "    }\n",
       "\n",
       "    .dataframe thead th {\n",
       "        text-align: right;\n",
       "    }\n",
       "</style>\n",
       "<table border=\"1\" class=\"dataframe\">\n",
       "  <thead>\n",
       "    <tr style=\"text-align: right;\">\n",
       "      <th></th>\n",
       "      <th>net_conf_down</th>\n",
       "      <th>gross_profit</th>\n",
       "      <th>net_conf_up</th>\n",
       "      <th>revenue</th>\n",
       "      <th>ROI</th>\n",
       "    </tr>\n",
       "  </thead>\n",
       "  <tbody>\n",
       "    <tr>\n",
       "      <td>1</td>\n",
       "      <td>-102,090,094.84</td>\n",
       "      <td>425,938,526.91</td>\n",
       "      <td>947,976,353.36</td>\n",
       "      <td>10,425,938,526.91</td>\n",
       "      <td>0.04</td>\n",
       "    </tr>\n",
       "    <tr>\n",
       "      <td>2</td>\n",
       "      <td>68,873,225.37</td>\n",
       "      <td>515,222,773.44</td>\n",
       "      <td>931,547,591.26</td>\n",
       "      <td>10,515,222,773.44</td>\n",
       "      <td>0.05</td>\n",
       "    </tr>\n",
       "    <tr>\n",
       "      <td>3</td>\n",
       "      <td>-128,880,547.33</td>\n",
       "      <td>435,008,362.78</td>\n",
       "      <td>969,706,954.18</td>\n",
       "      <td>10,435,008,362.78</td>\n",
       "      <td>0.04</td>\n",
       "    </tr>\n",
       "  </tbody>\n",
       "</table>\n",
       "</div>"
      ],
      "text/plain": [
       "    net_conf_down   gross_profit    net_conf_up           revenue  ROI\n",
       "1 -102,090,094.84 425,938,526.91 947,976,353.36 10,425,938,526.91 0.04\n",
       "2   68,873,225.37 515,222,773.44 931,547,591.26 10,515,222,773.44 0.05\n",
       "3 -128,880,547.33 435,008,362.78 969,706,954.18 10,435,008,362.78 0.04"
      ]
     },
     "execution_count": 69,
     "metadata": {},
     "output_type": "execute_result"
    }
   ],
   "source": [
    "\n",
    "reg = 0\n",
    "revenue_df = pd.DataFrame(columns=['net_conf_down','gross_profit', 'net_conf_up', 'revenue', 'ROI'])\n",
    "\n",
    "for y, prob_y in zips:\n",
    "    reg+=1\n",
    "    print('\\nРегион '+str(reg)+':')\n",
    "    values, mean, d, up , gross, r = mean_revenue_and_std(y, prob_y);\n",
    "    revenue_df.loc[reg] = [d, gross, up, mean, r]\n",
    "        \n",
    "pd.options.display.float_format = '{:,.2f}'.format    \n",
    "revenue_df"
   ]
  },
  {
   "cell_type": "markdown",
   "metadata": {},
   "source": [
    "<div style=\"background: #cceeaa; padding: 5px; border: 1px solid green; border-radius: 5px;\">\n",
    "<font color='green'> \n",
    "    <b><u>КОММЕНТАРИЙ РЕВЬЮЕРА 2</u></b>\n",
    "</font><br>\n",
    "<font color='red'><br> прибыль получается на уровне 50 -70 млрд.. Это круто, но многовато...<br>\n",
    "Для ориентира - прибыль по региону 2 - около 450-520 млн. остальные - чуть меньше. Т.е. не более 500 млн., если в целом.<br>\n",
    "Некоторые моменты увидел и оставил в тексте комментарии - посмотри, пожалуйста.\n",
    "<font color='blue'><br> Сделал твои изменения. Теперь gross_profit отрицательный). пересмотри еще раз."
   ]
  },
  {
   "cell_type": "markdown",
   "metadata": {},
   "source": [
    "<div style=\"background: #cceeaa; padding: 5px; border: 1px solid green; border-radius: 5px;\">\n",
    "<font color='green'> \n",
    "    <b><u>КОММЕНТАРИЙ РЕВЬЮЕРА 3</u></b>\n",
    "</font><br>\n",
    "<font color='red'><br>\n",
    "Привет, Юрий!  Посмотри, пожалуйста, выше код:<br>\n",
    "1) Там было описка в ячейке 60<br>\n",
    "2) Плюс расчёт рисков - чуть скорректировал.\n",
    "    \n",
    "Буду ждать тогда твоих комментариев и выводов по проекту (кто победитель?:)"
   ]
  },
  {
   "cell_type": "code",
   "execution_count": null,
   "metadata": {},
   "outputs": [],
   "source": [
    "************************************************"
   ]
  },
  {
   "cell_type": "code",
   "execution_count": null,
   "metadata": {},
   "outputs": [],
   "source": []
  },
  {
   "cell_type": "code",
   "execution_count": null,
   "metadata": {},
   "outputs": [],
   "source": [
    "*******************************************"
   ]
  },
  {
   "cell_type": "markdown",
   "metadata": {},
   "source": [
    "# Финальный вывод"
   ]
  },
  {
   "cell_type": "markdown",
   "metadata": {},
   "source": [
    "Исходя из наших расчетов и анализируя показатель чистой прибыли с каждого региона, можно сделать следующие выводы. Регион 1 и 3 приблизительно равны по предполагаемой чистой прибыли. Выделяется регион номер 2 - его чистая прибыль равна 512 млн. Следуя нашему условию, мы можем выбрать этот регион и признать его выигрышным."
   ]
  },
  {
   "cell_type": "markdown",
   "metadata": {},
   "source": [
    "<div style=\"background: #cceeaa; padding: 5px; border: 1px solid green; border-radius: 5px;\">\n",
    "<font color='green'> \n",
    "    <b><u>КОММЕНТАРИЙ РЕВЬЮЕРА 4</u></b>\n",
    "</font><br>\n",
    "<font color='green'><br>ОК, Юрий, именно так)<br>\n",
    "Спасибо за проект) УСПЕШНОГО ДАЛЬНЕЙШЕГО ОБУЧЕНИЯ!"
   ]
  },
  {
   "cell_type": "markdown",
   "metadata": {},
   "source": [
    "<div style=\"background: #cceeaa; padding: 5px; border: 1px solid green; border-radius: 5px;\">\n",
    "<font color='green'> \n",
    "    <b><u>КОММЕНТАРИЙ РЕВЬЮЕРА</u></b>\n",
    "</font><br>\n",
    "<font color='green'><br>\n",
    "Юрий, на самом деле очень последовательная работа!<br>\n",
    "И аргументация, и удобный для просмотра код, и графика - многое удалось как надо<br>\n",
    "      \n",
    "Данный проект не простой, может показаться. Потому что, его цель не просто построить прогноз по модели или прогноз продаж. А научиться выбирать лучшее управленческое решение на основе метода моделирования ситуации. В этом ключе и есть смысл её рассматривать. (Кстати, одна из программ на рынке по этой теме - AnyLogic - интересный продукт. Мне приходилось как-то смотерть её.. интересно. Можешь ролик из инета глянуть по какому-нибудь примеру с её использованием. Тогда тема управленческого моделирования может по-другому лечь... Ведь бутсреп (в лоджике егое нет) - как раз один из спобов моделирования)<br>    \n",
    "\n",
    "<font color='red'>    \n",
    "Есть несколько моментов, которые надо бы проверить:<br>\n",
    "1) Расчёт функций прибыли и убытков: в тексте оставил алгоритм - посмотри, пожалуйта.<br>\n",
    "2) также, нужен расчёт рисков: это % количества случаев расчёта, имеющих отрицательное значение прибыли. И расчёт доверительных интервалов.\n",
    "\n",
    "<font color='green'>    \n",
    "Спасибо)<br>\n",
    "Буду ждать комментариев)\n",
    "<br>\n",
    "</font>\n",
    "<font color='blue'>    \n",
    "Спасибо тебе за помощь<br>\n",
    "Максимально постарался переделать проект и уделил ему больше времени. Думаю, в этот раз уже всё в порядке :). Впереди жесткий дедлайн 13 января и у меня как раз остается два дня подумать над сборным проектом и сдать его. Надеюсь, еще удастся поработать с тобой вместе над следующими проектами, спасибо тебе большое еще раз за помощь.\n",
    "<br>\n",
    "</font>    "
   ]
  },
  {
   "cell_type": "markdown",
   "metadata": {},
   "source": [
    "<div style=\"background: #cceeaa; padding: 5px; border: 1px solid green; border-radius: 5px;\">\n",
    "<font color='green'> \n",
    "    <b><u>КОММЕНТАРИЙ РЕВЬЮЕРА 2</u></b>\n",
    "</font><br>\n",
    "<font color='red'><br>>Юрий, привет!<br>\n",
    "Грандиозную работу ещё провёл. Мне очень бы хотелось принято работу..<br>\n",
    "Но не могу, пока...<br>\n",
    "Посмотри, пожалуйста, те комментарии, что я оставил в тексте. Возможно, что благодаря им удастся получить ожидаемую прибыль. (не более 500 млн.!)<br>\n",
    "\n",
    "Постараюсь сразу брать твою работу в провреку, помня о дедлайне."
   ]
  },
  {
   "cell_type": "markdown",
   "metadata": {},
   "source": [
    "# Чек-лист готовности проекта"
   ]
  },
  {
   "cell_type": "markdown",
   "metadata": {},
   "source": [
    "Поставьте 'x' в выполненных пунктах. Далее нажмите Shift+Enter."
   ]
  },
  {
   "cell_type": "markdown",
   "metadata": {},
   "source": [
    "- [x]  Jupyter Notebook открыт\n",
    "- [x]  Весь код выполняется без ошибок\n",
    "- [x]  Ячейки с кодом расположены в порядке исполнения\n",
    "- [x]  Выполнен шаг 1: данные подготовлены\n",
    "- [x]  Выполнен шаг 2: модели обучены и проверены\n",
    "    - [x]  Данные корректно разбиты на обучающую и валидационную выборки\n",
    "    - [x]  Модели обучены, предсказания сделаны\n",
    "    - [x]  Предсказания и правильные ответы на валидационной выборке сохранены\n",
    "    - [x]  На экране напечатаны результаты\n",
    "    - [x]  Сделаны выводы\n",
    "- [x]  Выполнен шаг 3: проведена подготовка к расчёту прибыли\n",
    "    - [x]  Для всех ключевых значений созданы константы Python\n",
    "    - [x]  Посчитано минимальное среднее количество продукта в месторождениях региона, достаточное для разработки\n",
    "    - [x]  По предыдущему пункту сделаны выводы\n",
    "    - [x]  Написана функция расчёта прибыли\n",
    "- [x]  Выполнен шаг 4: посчитаны риски и прибыль\n",
    "    - [x]  Проведена процедура *Bootstrap*\n",
    "    - [x]  Все параметры бутстрепа соответствуют условию\n",
    "    - [x]  Найдены все нужные величины\n",
    "    - [x]  Предложен регион для разработки месторождения\n",
    "    - [x]  Выбор региона обоснован"
   ]
  }
 ],
 "metadata": {
  "kernelspec": {
   "display_name": "Python 3",
   "language": "python",
   "name": "python3"
  },
  "language_info": {
   "codemirror_mode": {
    "name": "ipython",
    "version": 3
   },
   "file_extension": ".py",
   "mimetype": "text/x-python",
   "name": "python",
   "nbconvert_exporter": "python",
   "pygments_lexer": "ipython3",
   "version": "3.7.8"
  },
  "toc": {
   "base_numbering": 1,
   "nav_menu": {},
   "number_sections": true,
   "sideBar": true,
   "skip_h1_title": true,
   "title_cell": "Table of Contents",
   "title_sidebar": "Contents",
   "toc_cell": false,
   "toc_position": {},
   "toc_section_display": true,
   "toc_window_display": false
  }
 },
 "nbformat": 4,
 "nbformat_minor": 2
}
