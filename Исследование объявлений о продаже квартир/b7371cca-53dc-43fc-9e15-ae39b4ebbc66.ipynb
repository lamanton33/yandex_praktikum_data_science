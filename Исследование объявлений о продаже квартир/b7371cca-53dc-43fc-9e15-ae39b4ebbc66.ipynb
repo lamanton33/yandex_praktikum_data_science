{
 "cells": [
  {
   "cell_type": "markdown",
   "metadata": {},
   "source": [
    "<div style=\"border:solid green 2px; padding: 20px\">\n",
    "<b>Юрий, привет!</b>\n",
    "\n",
    "Меня зовут Евгений Д., и я буду проверять твой проект. Предлагаю общаться на «ты» 😊 Но если это не удобно - дай знать, и мы перейдем на \"вы\". \n",
    "\n",
    "Моя основная цель — не указать на совершенные тобою ошибки, а поделиться своим опытом и помочь тебе стать аналитиком данных. Ты уже проделал большую работу над проектом, но давай сделаем его еще лучше. Ниже ты найдешь мои комментарии - пожалуйста, не перемещай, не изменяй и не удаляй их. Я буду использовать цветовую разметку:\n",
    "\n",
    "<div class=\"alert alert-danger\">\n",
    "<b>Комментарий ревьюера:</b> Так выделены самые важные замечания. Без их отработки проект не будет принят. </div>\n",
    "\n",
    "<div class=\"alert alert-warning\">\n",
    "<b>Комментарий ревьюера:</b> Так выделены небольшие замечания. Одна-два таких замечания в проекте допустимы, но если их будет больше - тебе будет необходимо внести исправления. Это как тестовое задание при приеме на работу: очень много мелких ошибок могут стать причиной отказа кандидату. \n",
    "\n",
    "</div>\n",
    "\n",
    "<div class=\"alert alert-success\">\n",
    "<b>Комментарий ревьюера:</b> Так я выделяю все остальные комментарии.</div>\n",
    "\n",
    "Давай работать над проектом в диалоге: если ты что-то меняешь в проекте или отвечаешь на мои комменатри — пиши об этом. Мне будет легче отследить изменения, если ты выделишь свои комментарии:\n",
    "<div class=\"alert alert-info\"> <b>Комментарий студента:</b> Например, вот так.</div>\n",
    "\n",
    "Всё это поможет выполнить повторную проверку твоего проекта оперативнее. "
   ]
  },
  {
   "cell_type": "markdown",
   "metadata": {},
   "source": [
    "# Исследование объявлений о продаже квартир\n",
    "\n",
    "В вашем распоряжении данные сервиса Яндекс.Недвижимость — архив объявлений о продаже квартир в Санкт-Петербурге и соседних населённых пунктов за несколько лет. Нужно научиться определять рыночную стоимость объектов недвижимости. Ваша задача — установить параметры. Это позволит построить автоматизированную систему: она отследит аномалии и мошенническую деятельность. \n",
    "\n",
    "По каждой квартире на продажу доступны два вида данных. Первые вписаны пользователем, вторые — получены автоматически на основе картографических данных. Например, расстояние до центра, аэропорта, ближайшего парка и водоёма. "
   ]
  },
  {
   "cell_type": "markdown",
   "metadata": {},
   "source": [
    "<div class=\"alert alert-success\">\n",
    "<b>Комментарий ревьюера:</b>\n",
    "\n",
    "Здорово, когда есть вступление в сам проект, каждый сможет быстрее разобраться с тем о чем сам проект. Можно также привести краткий план проведения самой работы и описание используемых столбцов. \n",
    "\n",
    "</div>"
   ]
  },
  {
   "cell_type": "markdown",
   "metadata": {},
   "source": [
    "### Шаг 1. Откройте файл с данными и изучите общую информацию. "
   ]
  },
  {
   "cell_type": "code",
   "execution_count": 29,
   "metadata": {
    "scrolled": false
   },
   "outputs": [
    {
     "name": "stdout",
     "output_type": "stream",
     "text": [
      "   total_images  last_price  total_area first_day_exposition  rooms  \\\n",
      "0            20  13000000.0       108.0  2019-03-07T00:00:00      3   \n",
      "1             7   3350000.0        40.4  2018-12-04T00:00:00      1   \n",
      "2            10   5196000.0        56.0  2015-08-20T00:00:00      2   \n",
      "3             0  64900000.0       159.0  2015-07-24T00:00:00      3   \n",
      "4             2  10000000.0       100.0  2018-06-19T00:00:00      2   \n",
      "\n",
      "   ceiling_height  floors_total  living_area  floor is_apartment  ...  \\\n",
      "0            2.70          16.0         51.0      8          NaN  ...   \n",
      "1             NaN          11.0         18.6      1          NaN  ...   \n",
      "2             NaN           5.0         34.3      4          NaN  ...   \n",
      "3             NaN          14.0          NaN      9          NaN  ...   \n",
      "4            3.03          14.0         32.0     13          NaN  ...   \n",
      "\n",
      "   kitchen_area  balcony    locality_name  airports_nearest  \\\n",
      "0          25.0      NaN  Санкт-Петербург           18863.0   \n",
      "1          11.0      2.0   посёлок Шушары           12817.0   \n",
      "2           8.3      0.0  Санкт-Петербург           21741.0   \n",
      "3           NaN      0.0  Санкт-Петербург           28098.0   \n",
      "4          41.0      NaN  Санкт-Петербург           31856.0   \n",
      "\n",
      "  cityCenters_nearest  parks_around3000  parks_nearest  ponds_around3000  \\\n",
      "0             16028.0               1.0          482.0               2.0   \n",
      "1             18603.0               0.0            NaN               0.0   \n",
      "2             13933.0               1.0           90.0               2.0   \n",
      "3              6800.0               2.0           84.0               3.0   \n",
      "4              8098.0               2.0          112.0               1.0   \n",
      "\n",
      "   ponds_nearest  days_exposition  \n",
      "0          755.0              NaN  \n",
      "1            NaN             81.0  \n",
      "2          574.0            558.0  \n",
      "3          234.0            424.0  \n",
      "4           48.0            121.0  \n",
      "\n",
      "[5 rows x 22 columns]\n"
     ]
    }
   ],
   "source": [
    "#имортируем библиотек, читаем файл и выводим общую информацию.\n",
    "import pandas as pd\n",
    "import numpy as np\n",
    "import matplotlib.pyplot as plt\n",
    "from datetime import datetime\n",
    "\n",
    "\n",
    "data = pd.read_csv(\"/datasets/real_estate_data.csv\", sep=\"\\t\")\n",
    "\n",
    "print(data.head())"
   ]
  },
  {
   "cell_type": "markdown",
   "metadata": {},
   "source": [
    "<div class=\"alert alert-warning\">\n",
    "<b>Комментарий ревьюера:</b>\n",
    "\n",
    "Рекомендую не применять метод `print()` для вывода таблиц. Лучше импортировать в\n",
    "начале проекта метод `display` из библиотеки `IPython.display` и\n",
    "применять его:\n",
    "\n",
    "---\n",
    "    \n",
    "`from IPython.display import display`\n",
    "\n",
    "`display(df)`\n",
    "\n",
    "    \n",
    "</div>"
   ]
  },
  {
   "cell_type": "code",
   "execution_count": 30,
   "metadata": {},
   "outputs": [
    {
     "name": "stdout",
     "output_type": "stream",
     "text": [
      "<class 'pandas.core.frame.DataFrame'>\n",
      "RangeIndex: 23699 entries, 0 to 23698\n",
      "Data columns (total 22 columns):\n",
      "total_images            23699 non-null int64\n",
      "last_price              23699 non-null float64\n",
      "total_area              23699 non-null float64\n",
      "first_day_exposition    23699 non-null object\n",
      "rooms                   23699 non-null int64\n",
      "ceiling_height          14504 non-null float64\n",
      "floors_total            23613 non-null float64\n",
      "living_area             21796 non-null float64\n",
      "floor                   23699 non-null int64\n",
      "is_apartment            2775 non-null object\n",
      "studio                  23699 non-null bool\n",
      "open_plan               23699 non-null bool\n",
      "kitchen_area            21421 non-null float64\n",
      "balcony                 12180 non-null float64\n",
      "locality_name           23650 non-null object\n",
      "airports_nearest        18157 non-null float64\n",
      "cityCenters_nearest     18180 non-null float64\n",
      "parks_around3000        18181 non-null float64\n",
      "parks_nearest           8079 non-null float64\n",
      "ponds_around3000        18181 non-null float64\n",
      "ponds_nearest           9110 non-null float64\n",
      "days_exposition         20518 non-null float64\n",
      "dtypes: bool(2), float64(14), int64(3), object(3)\n",
      "memory usage: 3.7+ MB\n",
      "None\n"
     ]
    }
   ],
   "source": [
    "print(data.info())"
   ]
  },
  {
   "cell_type": "markdown",
   "metadata": {},
   "source": [
    "### Вывод"
   ]
  },
  {
   "cell_type": "markdown",
   "metadata": {},
   "source": [
    "Данных достаточно много. Присутствуют пропущенные значения. В некоторых столбцах неправильный тип данных."
   ]
  },
  {
   "cell_type": "markdown",
   "metadata": {},
   "source": [
    "### Шаг 2. Предобработка данных"
   ]
  },
  {
   "cell_type": "code",
   "execution_count": 31,
   "metadata": {},
   "outputs": [
    {
     "name": "stdout",
     "output_type": "stream",
     "text": [
      "total_images                0\n",
      "last_price                  0\n",
      "total_area                  0\n",
      "first_day_exposition        0\n",
      "rooms                       0\n",
      "ceiling_height           9195\n",
      "floors_total               86\n",
      "living_area              1903\n",
      "floor                       0\n",
      "is_apartment            20924\n",
      "studio                      0\n",
      "open_plan                   0\n",
      "kitchen_area             2278\n",
      "balcony                 11519\n",
      "locality_name              49\n",
      "airports_nearest         5542\n",
      "cityCenters_nearest      5519\n",
      "parks_around3000         5518\n",
      "parks_nearest           15620\n",
      "ponds_around3000         5518\n",
      "ponds_nearest           14589\n",
      "days_exposition          3181\n",
      "dtype: int64\n"
     ]
    }
   ],
   "source": [
    "#ищем пропущенные значение используя метод isnull()\n",
    "print (data.isnull().sum())\n"
   ]
  },
  {
   "cell_type": "code",
   "execution_count": 32,
   "metadata": {},
   "outputs": [
    {
     "name": "stdout",
     "output_type": "stream",
     "text": [
      "0\n"
     ]
    }
   ],
   "source": [
    "#выводим кол-во дубликатов\n",
    "print (data.duplicated().sum())\n"
   ]
  },
  {
   "cell_type": "code",
   "execution_count": 33,
   "metadata": {},
   "outputs": [
    {
     "name": "stdout",
     "output_type": "stream",
     "text": [
      "0\n",
      "0\n",
      "total_images                0\n",
      "last_price                  0\n",
      "total_area                  0\n",
      "first_day_exposition        0\n",
      "rooms                       0\n",
      "ceiling_height              0\n",
      "floors_total                0\n",
      "living_area              1903\n",
      "floor                       0\n",
      "is_apartment                0\n",
      "studio                      0\n",
      "open_plan                   0\n",
      "kitchen_area                0\n",
      "balcony                     0\n",
      "locality_name              49\n",
      "airports_nearest         5394\n",
      "cityCenters_nearest      5394\n",
      "parks_around3000         5518\n",
      "parks_nearest           15620\n",
      "ponds_around3000         5518\n",
      "ponds_nearest           14589\n",
      "days_exposition             0\n",
      "dtype: int64\n"
     ]
    }
   ],
   "source": [
    "#Заполняем пропущенные значения\n",
    "data['ceiling_height'] = data['ceiling_height'].fillna(data['ceiling_height'].median())\n",
    "print(data['ceiling_height'].isna().sum())\n",
    "data['kitchen_area'] = data['kitchen_area'].fillna(data['kitchen_area'].median())\n",
    "print(data['kitchen_area'].isna().sum())\n",
    "\n",
    "data['floors_total'] = data['floors_total'].fillna(1)\n",
    "\n",
    "\n",
    "data['is_apartment']=data['is_apartment'].fillna(True) \n",
    "data['balcony']=data['balcony'].fillna(0)\n",
    "\n",
    "     \n",
    "\n",
    "living_area_coef=data['living_area']/data['total_area']\n",
    "living_area_mean = np.mean(living_area_coef)\n",
    "living_area_fill = living_area_mean*data['living_area']\n",
    "data['living_area'] = data['living_area'].fillna(living_area_fill)\n",
    "data.loc[data['days_exposition'].isnull(), 'days_exposition'] = data['days_exposition'].median()\n",
    "\n",
    "\n",
    "median_data = data.pivot_table(\n",
    "    index='locality_name',\n",
    "    values=['airports_nearest', 'cityCenters_nearest'],\n",
    "    aggfunc='median'\n",
    ")\n",
    "median_data_localities = list(median_data.index)\n",
    "\n",
    "def fill_missing_data(row, col):\n",
    "    locality = row['locality_name']\n",
    "    \n",
    "    if locality in median_data_localities:\n",
    "        return median_data.loc[locality][col]\n",
    "    \n",
    "    return row[col]\n",
    "columns = ['airports_nearest', 'cityCenters_nearest']\n",
    "\n",
    "for column in columns:\n",
    "    data.loc[data[column].isnull(), column] = data.apply(fill_missing_data, axis=1, args=(column,))\n",
    "\n",
    "# Проверим данные по скольким населенные пунктам не удалось заполнить\n",
    "len(data[data['cityCenters_nearest'].isnull()]['locality_name'].unique())\n",
    "\n",
    "\n",
    "# Проверим данные по скольким населенные пунктам не удалось заполнить\n",
    "len(data[data['cityCenters_nearest'].isnull()]['locality_name'].unique())\n",
    "\n",
    "#Переводим в нужный формат день публикации объявления\n",
    "data['first_day_exposition'] = pd.to_datetime(data['first_day_exposition'], format='%Y-%m-%d')\n",
    "\n",
    "#Приводим данные к нужному типу\n",
    "# float63 -> int64\n",
    "for column in ['balcony', 'floors_total', 'days_exposition']:\n",
    "    data[column] = data[column].astype('int')\n",
    "\n",
    "\n",
    "print (data.isnull().sum())"
   ]
  },
  {
   "cell_type": "markdown",
   "metadata": {},
   "source": [
    "<div class=\"alert alert-success\">\n",
    "<b>Комментарий ревьюера:</b>\n",
    "\n",
    "В том числе метод `fillna` и `astype` можно применять к нескольким столбцам одновременно.\n",
    "    \n",
    "Если столбцов более 2–ух, то рекомендую применять цикл `for`.\n",
    "    \n",
    "</div>"
   ]
  },
  {
   "cell_type": "markdown",
   "metadata": {},
   "source": [
    "<div class=\"alert alert-warning\">\n",
    "<b>Комментарий ревьюера:</b>\n",
    "\n",
    "Лучше всего не делать такие объемные ячейки, т.к. они достаточно трудно изучаются и также тяжело будет изучаться моя обратная связь.\n",
    "    \n",
    "</div>"
   ]
  },
  {
   "cell_type": "markdown",
   "metadata": {},
   "source": [
    "### Шаг 3. Посчитайте и добавьте в таблицу"
   ]
  },
  {
   "cell_type": "code",
   "execution_count": 34,
   "metadata": {},
   "outputs": [
    {
     "data": {
      "text/plain": [
       "другой       17446\n",
       "последний     3336\n",
       "первый        2917\n",
       "Name: floor, dtype: int64"
      ]
     },
     "execution_count": 34,
     "metadata": {},
     "output_type": "execute_result"
    }
   ],
   "source": [
    "#Соотношения\n",
    "data['living_to_total']=data['living_area']/data['total_area']\n",
    "data['kitchen_to_total']=data['kitchen_area']/data['total_area']\n",
    "data['price_m'] = data['last_price']/data['total_area']\n",
    "\n",
    "#День недели, месяц и год\n",
    "\n",
    "data['day_exposition'] = data['first_day_exposition'].dt.dayofweek\n",
    "data['month_exposition'] = data['first_day_exposition'].dt.month\n",
    "data['year_exposition'] = data['first_day_exposition'].dt.year\n",
    "\n",
    "#Функция категоризирующая этажи по группам \"Первый\" \"Последний\" \"Другой\"\n",
    "def categorize_floor(row):\n",
    "\n",
    "\n",
    "    if row['floor'] == 1:\n",
    "        return 'первый'\n",
    "    elif row['floor'] == row['floors_total']:\n",
    "        return 'последний'\n",
    "    else:\n",
    "        return 'другой'\n",
    "    \n",
    "    \n",
    "data.loc[:, 'floor'] = data.apply(categorize_floor, axis=1)\n",
    "    \n",
    "    \n",
    "data['floor'].value_counts()\n",
    "\n"
   ]
  },
  {
   "cell_type": "code",
   "execution_count": 35,
   "metadata": {},
   "outputs": [
    {
     "data": {
      "text/html": [
       "<div>\n",
       "<style scoped>\n",
       "    .dataframe tbody tr th:only-of-type {\n",
       "        vertical-align: middle;\n",
       "    }\n",
       "\n",
       "    .dataframe tbody tr th {\n",
       "        vertical-align: top;\n",
       "    }\n",
       "\n",
       "    .dataframe thead th {\n",
       "        text-align: right;\n",
       "    }\n",
       "</style>\n",
       "<table border=\"1\" class=\"dataframe\">\n",
       "  <thead>\n",
       "    <tr style=\"text-align: right;\">\n",
       "      <th></th>\n",
       "      <th>total_images</th>\n",
       "      <th>last_price</th>\n",
       "      <th>total_area</th>\n",
       "      <th>first_day_exposition</th>\n",
       "      <th>rooms</th>\n",
       "      <th>ceiling_height</th>\n",
       "      <th>floors_total</th>\n",
       "      <th>living_area</th>\n",
       "      <th>floor</th>\n",
       "      <th>is_apartment</th>\n",
       "      <th>...</th>\n",
       "      <th>parks_nearest</th>\n",
       "      <th>ponds_around3000</th>\n",
       "      <th>ponds_nearest</th>\n",
       "      <th>days_exposition</th>\n",
       "      <th>living_to_total</th>\n",
       "      <th>kitchen_to_total</th>\n",
       "      <th>price_m</th>\n",
       "      <th>day_exposition</th>\n",
       "      <th>month_exposition</th>\n",
       "      <th>year_exposition</th>\n",
       "    </tr>\n",
       "  </thead>\n",
       "  <tbody>\n",
       "    <tr>\n",
       "      <td>0</td>\n",
       "      <td>20</td>\n",
       "      <td>13000000.0</td>\n",
       "      <td>108.0</td>\n",
       "      <td>2019-03-07</td>\n",
       "      <td>3</td>\n",
       "      <td>2.70</td>\n",
       "      <td>16</td>\n",
       "      <td>51.0</td>\n",
       "      <td>другой</td>\n",
       "      <td>True</td>\n",
       "      <td>...</td>\n",
       "      <td>482.0</td>\n",
       "      <td>2.0</td>\n",
       "      <td>755.0</td>\n",
       "      <td>95</td>\n",
       "      <td>0.472222</td>\n",
       "      <td>0.231481</td>\n",
       "      <td>120370.370370</td>\n",
       "      <td>3</td>\n",
       "      <td>3</td>\n",
       "      <td>2019</td>\n",
       "    </tr>\n",
       "    <tr>\n",
       "      <td>1</td>\n",
       "      <td>7</td>\n",
       "      <td>3350000.0</td>\n",
       "      <td>40.4</td>\n",
       "      <td>2018-12-04</td>\n",
       "      <td>1</td>\n",
       "      <td>2.65</td>\n",
       "      <td>11</td>\n",
       "      <td>18.6</td>\n",
       "      <td>первый</td>\n",
       "      <td>True</td>\n",
       "      <td>...</td>\n",
       "      <td>NaN</td>\n",
       "      <td>0.0</td>\n",
       "      <td>NaN</td>\n",
       "      <td>81</td>\n",
       "      <td>0.460396</td>\n",
       "      <td>0.272277</td>\n",
       "      <td>82920.792079</td>\n",
       "      <td>1</td>\n",
       "      <td>12</td>\n",
       "      <td>2018</td>\n",
       "    </tr>\n",
       "    <tr>\n",
       "      <td>2</td>\n",
       "      <td>10</td>\n",
       "      <td>5196000.0</td>\n",
       "      <td>56.0</td>\n",
       "      <td>2015-08-20</td>\n",
       "      <td>2</td>\n",
       "      <td>2.65</td>\n",
       "      <td>5</td>\n",
       "      <td>34.3</td>\n",
       "      <td>другой</td>\n",
       "      <td>True</td>\n",
       "      <td>...</td>\n",
       "      <td>90.0</td>\n",
       "      <td>2.0</td>\n",
       "      <td>574.0</td>\n",
       "      <td>558</td>\n",
       "      <td>0.612500</td>\n",
       "      <td>0.148214</td>\n",
       "      <td>92785.714286</td>\n",
       "      <td>3</td>\n",
       "      <td>8</td>\n",
       "      <td>2015</td>\n",
       "    </tr>\n",
       "    <tr>\n",
       "      <td>3</td>\n",
       "      <td>0</td>\n",
       "      <td>64900000.0</td>\n",
       "      <td>159.0</td>\n",
       "      <td>2015-07-24</td>\n",
       "      <td>3</td>\n",
       "      <td>2.65</td>\n",
       "      <td>14</td>\n",
       "      <td>NaN</td>\n",
       "      <td>другой</td>\n",
       "      <td>True</td>\n",
       "      <td>...</td>\n",
       "      <td>84.0</td>\n",
       "      <td>3.0</td>\n",
       "      <td>234.0</td>\n",
       "      <td>424</td>\n",
       "      <td>NaN</td>\n",
       "      <td>0.057233</td>\n",
       "      <td>408176.100629</td>\n",
       "      <td>4</td>\n",
       "      <td>7</td>\n",
       "      <td>2015</td>\n",
       "    </tr>\n",
       "    <tr>\n",
       "      <td>4</td>\n",
       "      <td>2</td>\n",
       "      <td>10000000.0</td>\n",
       "      <td>100.0</td>\n",
       "      <td>2018-06-19</td>\n",
       "      <td>2</td>\n",
       "      <td>3.03</td>\n",
       "      <td>14</td>\n",
       "      <td>32.0</td>\n",
       "      <td>другой</td>\n",
       "      <td>True</td>\n",
       "      <td>...</td>\n",
       "      <td>112.0</td>\n",
       "      <td>1.0</td>\n",
       "      <td>48.0</td>\n",
       "      <td>121</td>\n",
       "      <td>0.320000</td>\n",
       "      <td>0.410000</td>\n",
       "      <td>100000.000000</td>\n",
       "      <td>1</td>\n",
       "      <td>6</td>\n",
       "      <td>2018</td>\n",
       "    </tr>\n",
       "  </tbody>\n",
       "</table>\n",
       "<p>5 rows × 28 columns</p>\n",
       "</div>"
      ],
      "text/plain": [
       "   total_images  last_price  total_area first_day_exposition  rooms  \\\n",
       "0            20  13000000.0       108.0           2019-03-07      3   \n",
       "1             7   3350000.0        40.4           2018-12-04      1   \n",
       "2            10   5196000.0        56.0           2015-08-20      2   \n",
       "3             0  64900000.0       159.0           2015-07-24      3   \n",
       "4             2  10000000.0       100.0           2018-06-19      2   \n",
       "\n",
       "   ceiling_height  floors_total  living_area   floor  is_apartment  ...  \\\n",
       "0            2.70            16         51.0  другой          True  ...   \n",
       "1            2.65            11         18.6  первый          True  ...   \n",
       "2            2.65             5         34.3  другой          True  ...   \n",
       "3            2.65            14          NaN  другой          True  ...   \n",
       "4            3.03            14         32.0  другой          True  ...   \n",
       "\n",
       "   parks_nearest  ponds_around3000  ponds_nearest  days_exposition  \\\n",
       "0          482.0               2.0          755.0               95   \n",
       "1            NaN               0.0            NaN               81   \n",
       "2           90.0               2.0          574.0              558   \n",
       "3           84.0               3.0          234.0              424   \n",
       "4          112.0               1.0           48.0              121   \n",
       "\n",
       "  living_to_total  kitchen_to_total        price_m  day_exposition  \\\n",
       "0        0.472222          0.231481  120370.370370               3   \n",
       "1        0.460396          0.272277   82920.792079               1   \n",
       "2        0.612500          0.148214   92785.714286               3   \n",
       "3             NaN          0.057233  408176.100629               4   \n",
       "4        0.320000          0.410000  100000.000000               1   \n",
       "\n",
       "   month_exposition  year_exposition  \n",
       "0                 3             2019  \n",
       "1                12             2018  \n",
       "2                 8             2015  \n",
       "3                 7             2015  \n",
       "4                 6             2018  \n",
       "\n",
       "[5 rows x 28 columns]"
      ]
     },
     "execution_count": 35,
     "metadata": {},
     "output_type": "execute_result"
    }
   ],
   "source": [
    "data['first_day_exposition'] = pd.to_datetime(data['first_day_exposition'], format=\"%Y-%m-%dT%H:%M:%S\")\n",
    "data.head()"
   ]
  },
  {
   "cell_type": "markdown",
   "metadata": {},
   "source": [
    "<div class=\"alert alert-success\">\n",
    "<b>Комментарий ревьюера:</b>\n",
    "\n",
    "Мы достаточно детально обработали наши данные и добавили все необходимые значения в нашу выборку. Давай теперь проведём анализ.\n",
    "    \n",
    "</div>"
   ]
  },
  {
   "cell_type": "markdown",
   "metadata": {},
   "source": [
    "### Шаг 4. Проведите исследовательский анализ данных и выполните инструкции:"
   ]
  },
  {
   "cell_type": "code",
   "execution_count": 36,
   "metadata": {},
   "outputs": [
    {
     "data": {
      "image/png": "[encoded data removed]",
      "text/plain": [
       "<Figure size 432x288 with 1 Axes>"
      ]
     },
     "metadata": {
      "needs_background": "light"
     },
     "output_type": "display_data"
    },
    {
     "data": {
      "image/png": "[encoded data removed]",
      "text/plain": [
       "<Figure size 432x288 with 1 Axes>"
      ]
     },
     "metadata": {
      "needs_background": "light"
     },
     "output_type": "display_data"
    },
    {
     "data": {
      "image/png": "[encoded data removed]",
      "text/plain": [
       "<Figure size 432x288 with 1 Axes>"
      ]
     },
     "metadata": {
      "needs_background": "light"
     },
     "output_type": "display_data"
    },
    {
     "data": {
      "image/png": "[encoded data removed]",
      "text/plain": [
       "<Figure size 432x288 with 1 Axes>"
      ]
     },
     "metadata": {
      "needs_background": "light"
     },
     "output_type": "display_data"
    }
   ],
   "source": [
    "#Строю гистограммы неочищенных данных циклом for\n",
    "scatter_columns = ['rooms','total_area','last_price','ceiling_height']\n",
    "for column in scatter_columns:\n",
    "    data.plot(x=column, y='last_price', \n",
    "              kind='scatter')"
   ]
  },
  {
   "cell_type": "code",
   "execution_count": 37,
   "metadata": {
    "scrolled": false
   },
   "outputs": [
    {
     "data": {
      "text/plain": [
       "count    23699.000000\n",
       "mean        60.348651\n",
       "std         35.654083\n",
       "min         12.000000\n",
       "25%         40.000000\n",
       "50%         52.000000\n",
       "75%         69.900000\n",
       "max        900.000000\n",
       "Name: total_area, dtype: float64"
      ]
     },
     "execution_count": 37,
     "metadata": {},
     "output_type": "execute_result"
    },
    {
     "data": {
      "image/png": "[encoded data removed]",
      "text/plain": [
       "<Figure size 432x288 with 1 Axes>"
      ]
     },
     "metadata": {
      "needs_background": "light"
     },
     "output_type": "display_data"
    }
   ],
   "source": [
    "#Строим гистограмму для площади\n",
    "data['total_area'].hist(bins=20)\n",
    "data['total_area'].describe()\n",
    "\n"
   ]
  },
  {
   "cell_type": "markdown",
   "metadata": {},
   "source": [
    "<div class=\"alert alert-warning\">\n",
    "<b>Комментарий ревьюера:</b>\n",
    "\n",
    "Не забывай пожалуйста подписавать каждый график. Это важный момент всего проект, потому что так быстрее понять о чем идёт речь на графике.\n",
    "\n",
    "</div>"
   ]
  },
  {
   "cell_type": "code",
   "execution_count": 38,
   "metadata": {},
   "outputs": [
    {
     "data": {
      "image/png": "[encoded data removed]",
      "text/plain": [
       "<Figure size 432x288 with 1 Axes>"
      ]
     },
     "metadata": {
      "needs_background": "light"
     },
     "output_type": "display_data"
    }
   ],
   "source": [
    "#строим диаграмму размаха\n",
    "plt.ylim(0, 200)\n",
    "data.boxplot('total_area')\n",
    "plt.show()"
   ]
  },
  {
   "cell_type": "markdown",
   "metadata": {},
   "source": [
    "Первый квартиль находится на уровне 40 m2\n",
    "Нижний \"ус\" упирается в 12, минимальное значение.\n",
    "Верхний \"ус\" упирается в значение около 115 кв.м.\n",
    "Большая часть значений лежит в диапазоне до 70 m2.\n",
    "\n",
    "Все, что лежит за примерной границей нормального размаха, мы можем посчитать выбросом.\n",
    "Из этого можно сделать вывод, что нам нужен диапазон 12-115 m2."
   ]
  },
  {
   "cell_type": "code",
   "execution_count": 39,
   "metadata": {
    "scrolled": true
   },
   "outputs": [
    {
     "data": {
      "image/png": "[encoded data removed]",
      "text/plain": [
       "<Figure size 432x288 with 1 Axes>"
      ]
     },
     "metadata": {
      "needs_background": "light"
     },
     "output_type": "display_data"
    }
   ],
   "source": [
    "# Строим гистрограмму со срезом больше 12 и меньше 115\n",
    "data.query('total_area >= 12 and total_area <= 115')['total_area'].hist()\n",
    "plt.show()"
   ]
  },
  {
   "cell_type": "code",
   "execution_count": 40,
   "metadata": {},
   "outputs": [
    {
     "data": {
      "text/plain": [
       "count    2.369900e+04\n",
       "mean     6.541549e+06\n",
       "std      1.088701e+07\n",
       "min      1.219000e+04\n",
       "25%      3.400000e+06\n",
       "50%      4.650000e+06\n",
       "75%      6.800000e+06\n",
       "max      7.630000e+08\n",
       "Name: last_price, dtype: float64"
      ]
     },
     "execution_count": 40,
     "metadata": {},
     "output_type": "execute_result"
    }
   ],
   "source": [
    "#Описываем информацию столбца last_price\n",
    "data['last_price'].describe()"
   ]
  },
  {
   "cell_type": "code",
   "execution_count": 41,
   "metadata": {},
   "outputs": [
    {
     "data": {
      "image/png": "[encoded data removed]",
      "text/plain": [
       "<Figure size 432x288 with 1 Axes>"
      ]
     },
     "metadata": {
      "needs_background": "light"
     },
     "output_type": "display_data"
    }
   ],
   "source": [
    "#Строим гистограмму для цены, подгоняя значения по y для удобного просмотра\n",
    "plt.ylim(-1e+06, 1.4e+07)\n",
    "data.boxplot('last_price')\n",
    "plt.show()"
   ]
  },
  {
   "cell_type": "markdown",
   "metadata": {},
   "source": [
    "Из полученного можем сделать вывод, что первый квартиль находится на уровне 3.4 млн. Большая часть значений находится в диапазоне 7 млн.\n",
    "Нижний \"ус\" упирается в 0, когда минимум равен 12 190, в то время как средняя стоимость недвижимости – 6.5 млн, что может вызвать у нас подозрения. Рассмотрим их подробнее"
   ]
  },
  {
   "cell_type": "code",
   "execution_count": 42,
   "metadata": {},
   "outputs": [
    {
     "data": {
      "text/html": [
       "<div>\n",
       "<style scoped>\n",
       "    .dataframe tbody tr th:only-of-type {\n",
       "        vertical-align: middle;\n",
       "    }\n",
       "\n",
       "    .dataframe tbody tr th {\n",
       "        vertical-align: top;\n",
       "    }\n",
       "\n",
       "    .dataframe thead th {\n",
       "        text-align: right;\n",
       "    }\n",
       "</style>\n",
       "<table border=\"1\" class=\"dataframe\">\n",
       "  <thead>\n",
       "    <tr style=\"text-align: right;\">\n",
       "      <th></th>\n",
       "      <th>locality_name</th>\n",
       "      <th>last_price</th>\n",
       "      <th>total_area</th>\n",
       "    </tr>\n",
       "  </thead>\n",
       "  <tbody>\n",
       "    <tr>\n",
       "      <td>8793</td>\n",
       "      <td>Санкт-Петербург</td>\n",
       "      <td>12190.0</td>\n",
       "      <td>109.0</td>\n",
       "    </tr>\n",
       "    <tr>\n",
       "      <td>14911</td>\n",
       "      <td>посёлок станции Свирь</td>\n",
       "      <td>430000.0</td>\n",
       "      <td>54.0</td>\n",
       "    </tr>\n",
       "    <tr>\n",
       "      <td>17456</td>\n",
       "      <td>Сланцы</td>\n",
       "      <td>430000.0</td>\n",
       "      <td>30.4</td>\n",
       "    </tr>\n",
       "    <tr>\n",
       "      <td>16274</td>\n",
       "      <td>деревня Старополье</td>\n",
       "      <td>440000.0</td>\n",
       "      <td>40.0</td>\n",
       "    </tr>\n",
       "  </tbody>\n",
       "</table>\n",
       "</div>"
      ],
      "text/plain": [
       "               locality_name  last_price  total_area\n",
       "8793         Санкт-Петербург     12190.0       109.0\n",
       "14911  посёлок станции Свирь    430000.0        54.0\n",
       "17456                 Сланцы    430000.0        30.4\n",
       "16274     деревня Старополье    440000.0        40.0"
      ]
     },
     "execution_count": 42,
     "metadata": {},
     "output_type": "execute_result"
    }
   ],
   "source": [
    "anomaly_data_price = data.query('last_price < 4.5e+5')\n",
    "anomaly_data_price.sort_values('last_price').head()[['locality_name', 'last_price', 'total_area']]\n",
    "\n"
   ]
  },
  {
   "cell_type": "markdown",
   "metadata": {},
   "source": [
    "Для деревень стоимость в 430 тыс. нормальна. Для Санкт-Петербурга стоимость в 12,190 - аномальна. Для того, чтобы избежать этого, нужно установить границу в 430 тыс."
   ]
  },
  {
   "cell_type": "code",
   "execution_count": 43,
   "metadata": {},
   "outputs": [
    {
     "data": {
      "image/png": "[encoded data removed]",
      "text/plain": [
       "<Figure size 432x288 with 1 Axes>"
      ]
     },
     "metadata": {
      "needs_background": "light"
     },
     "output_type": "display_data"
    }
   ],
   "source": [
    "# Данные без выбросов и ошибок\n",
    "data.query('last_price >= 4.3e+5 and last_price <= 1.2e+7')['last_price'].hist()\n",
    "plt.show()"
   ]
  },
  {
   "cell_type": "code",
   "execution_count": 44,
   "metadata": {
    "scrolled": false
   },
   "outputs": [
    {
     "data": {
      "text/plain": [
       "count    23699.000000\n",
       "mean         2.070636\n",
       "std          1.078405\n",
       "min          0.000000\n",
       "25%          1.000000\n",
       "50%          2.000000\n",
       "75%          3.000000\n",
       "max         19.000000\n",
       "Name: rooms, dtype: float64"
      ]
     },
     "execution_count": 44,
     "metadata": {},
     "output_type": "execute_result"
    }
   ],
   "source": [
    "#Переходим к числу комнат\n",
    "data['rooms'].describe()"
   ]
  },
  {
   "cell_type": "code",
   "execution_count": 45,
   "metadata": {},
   "outputs": [
    {
     "data": {
      "image/png": "[encoded data removed]",
      "text/plain": [
       "<Figure size 432x288 with 1 Axes>"
      ]
     },
     "metadata": {
      "needs_background": "light"
     },
     "output_type": "display_data"
    }
   ],
   "source": [
    "#Строим диаграмму размаха\n",
    "plt.ylim(-1, 10)\n",
    "data.boxplot('rooms')\n",
    "plt.show()"
   ]
  },
  {
   "cell_type": "markdown",
   "metadata": {},
   "source": [
    "Исходя из данной диаграммы, можем сделать вывод, что большая часть значений лежит в диапазоне до 3х комнат, что выглядит правдаподобно. Первый квартиль находится на уровне 1 комнаты. Нижний \"ус\" упирается в 0, минимальное значение, это можно принять, за ошибку в данных. Верхний \"ус\" упирается в значение около 6.\n",
    "Выбросы лежат за ориентировочной границей нормального распределения."
   ]
  },
  {
   "cell_type": "code",
   "execution_count": 46,
   "metadata": {},
   "outputs": [
    {
     "data": {
      "image/png": "[encoded data removed]",
      "text/plain": [
       "<Figure size 432x288 with 1 Axes>"
      ]
     },
     "metadata": {
      "needs_background": "light"
     },
     "output_type": "display_data"
    }
   ],
   "source": [
    "\n",
    "# Срез данных от 1 до 6\n",
    "data.query('rooms >= 1 and rooms <= 6')['rooms'].hist()\n",
    "plt.show()\n",
    "\n"
   ]
  },
  {
   "cell_type": "markdown",
   "metadata": {},
   "source": [
    "<div class=\"alert alert-danger\">\n",
    "<b>Комментарий ревьюера:</b>\n",
    "\n",
    "<s>Давай постараемся автоматизировать построение графиков через цикл `for`. \n",
    "    \n",
    "Почему это важно? \n",
    "    \n",
    "- экономим своё время\n",
    "- оптимизируем код\n",
    "- делаем работу презентабельнее\n",
    "    \n",
    "Выбери любой участок кода где это сделать целесообразнее всего. </s>\n",
    "\n",
    "</div>\n",
    "<div class=\"alert alert-info\"> <b>Комментарий студента:</b> Построил графики с \"грязными данными\" в начале этого пункта. Использовал цикл for, как посоветовал.</div>"
   ]
  },
  {
   "cell_type": "markdown",
   "metadata": {},
   "source": [
    "<div class=\"alert alert-success\">\n",
    "<b>Комментарий ревьюера: (2)</b>\n",
    "\n",
    "Отлично 👍\n",
    "    \n",
    "Теперь в нужный момент сможем применить этот инструмент 😊\n",
    "    \n",
    "</div>"
   ]
  },
  {
   "cell_type": "code",
   "execution_count": 20,
   "metadata": {},
   "outputs": [
    {
     "data": {
      "text/plain": [
       "count    23699.000000\n",
       "mean         2.724358\n",
       "std          0.988298\n",
       "min          1.000000\n",
       "25%          2.600000\n",
       "50%          2.650000\n",
       "75%          2.700000\n",
       "max        100.000000\n",
       "Name: ceiling_height, dtype: float64"
      ]
     },
     "execution_count": 20,
     "metadata": {},
     "output_type": "execute_result"
    }
   ],
   "source": [
    "#Описываем столбец с высотой потолков\n",
    "data['ceiling_height'].describe()"
   ]
  },
  {
   "cell_type": "code",
   "execution_count": 19,
   "metadata": {},
   "outputs": [
    {
     "data": {
      "image/png": "[encoded data removed]",
      "text/plain": [
       "<Figure size 432x288 with 1 Axes>"
      ]
     },
     "metadata": {
      "needs_background": "light"
     },
     "output_type": "display_data"
    }
   ],
   "source": [
    "#Строим диаграмму размаха для высоты потолков\n",
    "plt.ylim(1, 3.5)\n",
    "data.boxplot('ceiling_height')\n",
    "plt.show()"
   ]
  },
  {
   "cell_type": "markdown",
   "metadata": {},
   "source": [
    "Исходя из построенной диаграммы, можно сделать вывод, что большая часть значений лежит в диапазоне до 2.8 м комнат, что выглядит правдаподобно. Первый квартиль находится на уровне 2.5 м. Нижний \"ус\" упирается в границу 2.2 м. Верхний \"ус\" упирается в границу около 3.2 м."
   ]
  },
  {
   "cell_type": "code",
   "execution_count": 28,
   "metadata": {},
   "outputs": [
    {
     "data": {
      "image/png": "[encoded data removed]",
      "text/plain": [
       "<Figure size 432x288 with 1 Axes>"
      ]
     },
     "metadata": {
      "needs_background": "light"
     },
     "output_type": "display_data"
    }
   ],
   "source": [
    "\n",
    "# Строим диаграмму по срезу высоты потолков от 2.4 до 3.2\n",
    "data.query('ceiling_height >= 2.4 and ceiling_height <= 3.2')['ceiling_height'].hist(bins=50)\n",
    "plt.show()"
   ]
  },
  {
   "cell_type": "code",
   "execution_count": 21,
   "metadata": {},
   "outputs": [
    {
     "data": {
      "text/plain": [
       "count    23699.000000\n",
       "mean       169.360226\n",
       "std        206.535633\n",
       "min          1.000000\n",
       "25%         45.000000\n",
       "50%         95.000000\n",
       "75%        199.000000\n",
       "max       1580.000000\n",
       "Name: days_exposition, dtype: float64"
      ]
     },
     "execution_count": 21,
     "metadata": {},
     "output_type": "execute_result"
    }
   ],
   "source": [
    "#описываем кол-во дней продажи квартиры\n",
    "data['days_exposition'].describe()"
   ]
  },
  {
   "cell_type": "code",
   "execution_count": 22,
   "metadata": {},
   "outputs": [
    {
     "data": {
      "image/png": "[encoded data removed]",
      "text/plain": [
       "<Figure size 432x288 with 1 Axes>"
      ]
     },
     "metadata": {
      "needs_background": "light"
     },
     "output_type": "display_data"
    }
   ],
   "source": [
    "#Строим диаграмму размаха для кол-во дней продажи квартиры\n",
    "plt.ylim(-10, 500)\n",
    "data.boxplot(column='days_exposition')\n",
    "plt.show()"
   ]
  },
  {
   "cell_type": "markdown",
   "metadata": {},
   "source": [
    "Исходя из диаграммы размаха, можно сделать вывод, что большая часть значений лежит в диапазоне до 200 дней, что выглядит правдоподобно.\n",
    "Первый квартиль лежит на уровне 45 дней.\n",
    "Нижний ус упирается в 1, минимальное значение. \n",
    "Верхний заканчивается в около 430 дней. Обычно продажа занимает около 100 дней. По диаграмме видно, если объект продан в течение 50 дней – это необычайно быстро, либо собственник передумал продавать квартиру и снял объявление с публикации. В таком случае будем рассматривать временной промежуток от недели."
   ]
  },
  {
   "cell_type": "markdown",
   "metadata": {},
   "source": [
    " Изучим факторы влияющие на продажу квартиры:"
   ]
  },
  {
   "cell_type": "code",
   "execution_count": 23,
   "metadata": {},
   "outputs": [],
   "source": [
    "#Так как мы уже провели очистку данных, то будем использовать наши срезы\n",
    "total_area_query = 'total_area >= 12 and total_area <= 115'\n",
    "last_price_query = 'last_price >= 4.3e+5 and last_price <= 1.2e+7'\n",
    "rooms_query = 'rooms >= 1 and rooms <= 6'\n",
    "ceiling_height_query = 'ceiling_height >= 2.4 and ceiling_height <= 3.2'\n",
    "days_exposition_query = 'days_exposition >= 7 and days_exposition <= 430'"
   ]
  },
  {
   "cell_type": "code",
   "execution_count": 24,
   "metadata": {},
   "outputs": [
    {
     "data": {
      "image/png": "[encoded data removed]",
      "text/plain": [
       "<Figure size 432x288 with 1 Axes>"
      ]
     },
     "metadata": {
      "needs_background": "light"
     },
     "output_type": "display_data"
    }
   ],
   "source": [
    "#Зависимость стоимости недвижимости от цены квадратного метра\n",
    "clean_data_query = f'{total_area_query} and {last_price_query}'\n",
    "clean_data = data.query(clean_data_query)\n",
    "clean_data.plot(x='price_m', y='last_price', kind='scatter')\n",
    "plt.show()"
   ]
  },
  {
   "cell_type": "code",
   "execution_count": 25,
   "metadata": {},
   "outputs": [
    {
     "data": {
      "text/plain": [
       "0.6312384710845483"
      ]
     },
     "execution_count": 25,
     "metadata": {},
     "output_type": "execute_result"
    }
   ],
   "source": [
    "#Считаю корреляцию\n",
    "clean_data['price_m'].corr(clean_data['last_price'])"
   ]
  },
  {
   "cell_type": "markdown",
   "metadata": {},
   "source": [
    "Исходя из полученного коэф. корреляции, можно сделать вывод, что связь, между изменением цены за кв.м и стоимостью самой недвижимости присутствует."
   ]
  },
  {
   "cell_type": "code",
   "execution_count": 26,
   "metadata": {},
   "outputs": [
    {
     "data": {
      "image/png": "[encoded data removed]",
      "text/plain": [
       "<Figure size 432x288 with 1 Axes>"
      ]
     },
     "metadata": {
      "needs_background": "light"
     },
     "output_type": "display_data"
    }
   ],
   "source": [
    "#Зависимость стоимости недвижимости от числа комнат\n",
    "clean_data_query = f'{rooms_query} and {last_price_query}'\n",
    "clean_data = data.query(clean_data_query)\n",
    "clean_data.plot(x='rooms', y='last_price', kind='scatter')\n",
    "plt.show()\n"
   ]
  },
  {
   "cell_type": "code",
   "execution_count": 27,
   "metadata": {},
   "outputs": [
    {
     "data": {
      "text/plain": [
       "0.45206215582459547"
      ]
     },
     "execution_count": 27,
     "metadata": {},
     "output_type": "execute_result"
    }
   ],
   "source": [
    "#Считаю корреляцию\n",
    "clean_data['rooms'].corr(clean_data['last_price'])"
   ]
  },
  {
   "cell_type": "markdown",
   "metadata": {},
   "source": [
    "<div class=\"alert alert-success\">\n",
    "<b>Комментарий ревьюера:</b>\n",
    "\n",
    "В том числе можно было построить матрицу корреляции между всеми переменными.\n",
    "    \n",
    "И визуализировать её с помощью метода `heatmap` из библиотеки `seaborn`.\n",
    "    \n",
    "</div>"
   ]
  },
  {
   "cell_type": "markdown",
   "metadata": {},
   "source": [
    "Исходя из полученного графика, можно сделать вывод, что связь между кол-вом комнат и стоимостью недвижимости присутствует, но она не особо сильна, по сравнению с другими показателями."
   ]
  },
  {
   "cell_type": "code",
   "execution_count": 28,
   "metadata": {},
   "outputs": [
    {
     "data": {
      "text/html": [
       "<div>\n",
       "<style scoped>\n",
       "    .dataframe tbody tr th:only-of-type {\n",
       "        vertical-align: middle;\n",
       "    }\n",
       "\n",
       "    .dataframe tbody tr th {\n",
       "        vertical-align: top;\n",
       "    }\n",
       "\n",
       "    .dataframe thead th {\n",
       "        text-align: right;\n",
       "    }\n",
       "</style>\n",
       "<table border=\"1\" class=\"dataframe\">\n",
       "  <thead>\n",
       "    <tr style=\"text-align: right;\">\n",
       "      <th></th>\n",
       "      <th>last_price</th>\n",
       "    </tr>\n",
       "    <tr>\n",
       "      <th>floor</th>\n",
       "      <th></th>\n",
       "    </tr>\n",
       "  </thead>\n",
       "  <tbody>\n",
       "    <tr>\n",
       "      <td>другой</td>\n",
       "      <td>5.072145e+06</td>\n",
       "    </tr>\n",
       "    <tr>\n",
       "      <td>первый</td>\n",
       "      <td>4.160474e+06</td>\n",
       "    </tr>\n",
       "    <tr>\n",
       "      <td>последний</td>\n",
       "      <td>4.533718e+06</td>\n",
       "    </tr>\n",
       "  </tbody>\n",
       "</table>\n",
       "</div>"
      ],
      "text/plain": [
       "             last_price\n",
       "floor                  \n",
       "другой     5.072145e+06\n",
       "первый     4.160474e+06\n",
       "последний  4.533718e+06"
      ]
     },
     "execution_count": 28,
     "metadata": {},
     "output_type": "execute_result"
    }
   ],
   "source": [
    "#Зависимость стоимости недвижимости от этажа.\n",
    "\n",
    "data[['floor', 'last_price']].query(last_price_query).pivot_table(index='floor', values='last_price')"
   ]
  },
  {
   "cell_type": "markdown",
   "metadata": {},
   "source": [
    "По полученной сводной таблице, можно сделать вывод, что первый этаж является самым дешевым, а средний самым популярным."
   ]
  },
  {
   "cell_type": "code",
   "execution_count": 29,
   "metadata": {},
   "outputs": [],
   "source": [
    "#Зависимость стоимости недвижимости от расстояние до центра города (м)"
   ]
  },
  {
   "cell_type": "code",
   "execution_count": 30,
   "metadata": {},
   "outputs": [
    {
     "data": {
      "image/png": "[encoded data removed]",
      "text/plain": [
       "<Figure size 432x288 with 1 Axes>"
      ]
     },
     "metadata": {
      "needs_background": "light"
     },
     "output_type": "display_data"
    }
   ],
   "source": [
    "clean_data = data.query(last_price_query)\n",
    "data.plot(x='cityCenters_nearest', y='last_price', kind='scatter')\n",
    "plt.show()"
   ]
  },
  {
   "cell_type": "code",
   "execution_count": 31,
   "metadata": {},
   "outputs": [
    {
     "data": {
      "text/plain": [
       "-0.35229906519828047"
      ]
     },
     "execution_count": 31,
     "metadata": {},
     "output_type": "execute_result"
    }
   ],
   "source": [
    "#Высчитываем коэф.корреляции\n",
    "clean_data['cityCenters_nearest'].corr(clean_data['last_price'])"
   ]
  },
  {
   "cell_type": "markdown",
   "metadata": {},
   "source": [
    "Исходя из полученного графика, можно сделать вывод, что цена увеличивается по тому, насколько близко находится квартира к центру. Чем ближе к центру - тем выше цена. Большая часть из всех дорогих объектов находится именно в центре."
   ]
  },
  {
   "cell_type": "code",
   "execution_count": 32,
   "metadata": {},
   "outputs": [],
   "source": [
    "#Зависимость стоимости недвижимости от даты публикации объявления\n",
    "clean_data = data.query(f'{days_exposition_query} and {last_price_query}')"
   ]
  },
  {
   "cell_type": "code",
   "execution_count": 33,
   "metadata": {},
   "outputs": [
    {
     "data": {
      "text/html": [
       "<div>\n",
       "<style scoped>\n",
       "    .dataframe tbody tr th:only-of-type {\n",
       "        vertical-align: middle;\n",
       "    }\n",
       "\n",
       "    .dataframe tbody tr th {\n",
       "        vertical-align: top;\n",
       "    }\n",
       "\n",
       "    .dataframe thead th {\n",
       "        text-align: right;\n",
       "    }\n",
       "</style>\n",
       "<table border=\"1\" class=\"dataframe\">\n",
       "  <thead>\n",
       "    <tr style=\"text-align: right;\">\n",
       "      <th></th>\n",
       "      <th>day_exposition</th>\n",
       "      <th>month_exposition</th>\n",
       "      <th>year_exposition</th>\n",
       "      <th>last_price</th>\n",
       "    </tr>\n",
       "  </thead>\n",
       "  <tbody>\n",
       "    <tr>\n",
       "      <td>day_exposition</td>\n",
       "      <td>1.000000</td>\n",
       "      <td>0.010180</td>\n",
       "      <td>-0.013679</td>\n",
       "      <td>-0.012430</td>\n",
       "    </tr>\n",
       "    <tr>\n",
       "      <td>month_exposition</td>\n",
       "      <td>0.010180</td>\n",
       "      <td>1.000000</td>\n",
       "      <td>-0.305183</td>\n",
       "      <td>0.004125</td>\n",
       "    </tr>\n",
       "    <tr>\n",
       "      <td>year_exposition</td>\n",
       "      <td>-0.013679</td>\n",
       "      <td>-0.305183</td>\n",
       "      <td>1.000000</td>\n",
       "      <td>0.028693</td>\n",
       "    </tr>\n",
       "    <tr>\n",
       "      <td>last_price</td>\n",
       "      <td>-0.012430</td>\n",
       "      <td>0.004125</td>\n",
       "      <td>0.028693</td>\n",
       "      <td>1.000000</td>\n",
       "    </tr>\n",
       "  </tbody>\n",
       "</table>\n",
       "</div>"
      ],
      "text/plain": [
       "                  day_exposition  month_exposition  year_exposition  \\\n",
       "day_exposition          1.000000          0.010180        -0.013679   \n",
       "month_exposition        0.010180          1.000000        -0.305183   \n",
       "year_exposition        -0.013679         -0.305183         1.000000   \n",
       "last_price             -0.012430          0.004125         0.028693   \n",
       "\n",
       "                  last_price  \n",
       "day_exposition     -0.012430  \n",
       "month_exposition    0.004125  \n",
       "year_exposition     0.028693  \n",
       "last_price          1.000000  "
      ]
     },
     "execution_count": 33,
     "metadata": {},
     "output_type": "execute_result"
    }
   ],
   "source": [
    "clean_data[['day_exposition', 'month_exposition', 'year_exposition', 'last_price']].corr()"
   ]
  },
  {
   "cell_type": "markdown",
   "metadata": {},
   "source": [
    "Исходя из полученных данных, можно сделать вывод, о том что зависимости между датой публикации и стоимостью недвижимости нет."
   ]
  },
  {
   "cell_type": "code",
   "execution_count": 34,
   "metadata": {},
   "outputs": [],
   "source": [
    "#Выбираю 10 населённых пунктов с наибольшим числом объявлений.\n",
    "top10_localities = data['locality_name'].value_counts().head(10)"
   ]
  },
  {
   "cell_type": "code",
   "execution_count": 35,
   "metadata": {},
   "outputs": [],
   "source": [
    "top10_locality_names = list(top10_localities.index)"
   ]
  },
  {
   "cell_type": "code",
   "execution_count": 36,
   "metadata": {},
   "outputs": [
    {
     "data": {
      "text/html": [
       "<div>\n",
       "<style scoped>\n",
       "    .dataframe tbody tr th:only-of-type {\n",
       "        vertical-align: middle;\n",
       "    }\n",
       "\n",
       "    .dataframe tbody tr th {\n",
       "        vertical-align: top;\n",
       "    }\n",
       "\n",
       "    .dataframe thead th {\n",
       "        text-align: right;\n",
       "    }\n",
       "</style>\n",
       "<table border=\"1\" class=\"dataframe\">\n",
       "  <thead>\n",
       "    <tr style=\"text-align: right;\">\n",
       "      <th></th>\n",
       "      <th>price_m</th>\n",
       "    </tr>\n",
       "    <tr>\n",
       "      <th>locality_name</th>\n",
       "      <th></th>\n",
       "    </tr>\n",
       "  </thead>\n",
       "  <tbody>\n",
       "    <tr>\n",
       "      <td>Санкт-Петербург</td>\n",
       "      <td>105628.948318</td>\n",
       "    </tr>\n",
       "    <tr>\n",
       "      <td>Пушкин</td>\n",
       "      <td>100322.823868</td>\n",
       "    </tr>\n",
       "    <tr>\n",
       "      <td>деревня Кудрово</td>\n",
       "      <td>92409.726322</td>\n",
       "    </tr>\n",
       "    <tr>\n",
       "      <td>посёлок Парголово</td>\n",
       "      <td>90175.913458</td>\n",
       "    </tr>\n",
       "    <tr>\n",
       "      <td>посёлок Мурино</td>\n",
       "      <td>85752.189195</td>\n",
       "    </tr>\n",
       "    <tr>\n",
       "      <td>посёлок Шушары</td>\n",
       "      <td>78677.364217</td>\n",
       "    </tr>\n",
       "    <tr>\n",
       "      <td>Колпино</td>\n",
       "      <td>75185.478229</td>\n",
       "    </tr>\n",
       "    <tr>\n",
       "      <td>Гатчина</td>\n",
       "      <td>68421.902770</td>\n",
       "    </tr>\n",
       "    <tr>\n",
       "      <td>Всеволожск</td>\n",
       "      <td>67214.252635</td>\n",
       "    </tr>\n",
       "    <tr>\n",
       "      <td>Выборг</td>\n",
       "      <td>57932.878606</td>\n",
       "    </tr>\n",
       "  </tbody>\n",
       "</table>\n",
       "</div>"
      ],
      "text/plain": [
       "                         price_m\n",
       "locality_name                   \n",
       "Санкт-Петербург    105628.948318\n",
       "Пушкин             100322.823868\n",
       "деревня Кудрово     92409.726322\n",
       "посёлок Парголово   90175.913458\n",
       "посёлок Мурино      85752.189195\n",
       "посёлок Шушары      78677.364217\n",
       "Колпино             75185.478229\n",
       "Гатчина             68421.902770\n",
       "Всеволожск          67214.252635\n",
       "Выборг              57932.878606"
      ]
     },
     "execution_count": 36,
     "metadata": {},
     "output_type": "execute_result"
    }
   ],
   "source": [
    "(\n",
    "    data.query(f'locality_name in @top10_locality_names and {last_price_query}')\n",
    "    .pivot_table(index='locality_name', values='price_m')\n",
    "    .sort_values(by='price_m', ascending=False)\n",
    ")"
   ]
  },
  {
   "cell_type": "markdown",
   "metadata": {},
   "source": [
    "Исходя из полученной таблицы, стоимость квадратного метра в Санкт-Петербурге самая дорогая. В городе Выборг, самая дешевая."
   ]
  },
  {
   "cell_type": "code",
   "execution_count": 37,
   "metadata": {},
   "outputs": [
    {
     "data": {
      "text/plain": [
       "15721"
      ]
     },
     "execution_count": 37,
     "metadata": {},
     "output_type": "execute_result"
    }
   ],
   "source": [
    "#Проанализируем недвижимость в Санкт-Петерубрге\n",
    "#Выбираем из общего датасета, всю недвижимость города\n",
    "saint_petersburg = pd.DataFrame(data.loc[data['locality_name'] == \"Санкт-Петербург\"])\n",
    "saint_petersburg.reset_index()\n",
    "len(saint_petersburg)"
   ]
  },
  {
   "cell_type": "code",
   "execution_count": 38,
   "metadata": {},
   "outputs": [],
   "source": [
    "#Теперь, нужно выяснить, какая область входит в центр.\n",
    "#Для того, чтобы это сделать, создадим новый столбец и округлим до целых полученные в нем значения, как и требуется в плане.\n",
    "km = 1_000\n",
    "saint_petersburg['cityCenters_nearest_km'] = (saint_petersburg['cityCenters_nearest'] / km).astype('int')"
   ]
  },
  {
   "cell_type": "code",
   "execution_count": 39,
   "metadata": {},
   "outputs": [
    {
     "data": {
      "text/html": [
       "<div>\n",
       "<style scoped>\n",
       "    .dataframe tbody tr th:only-of-type {\n",
       "        vertical-align: middle;\n",
       "    }\n",
       "\n",
       "    .dataframe tbody tr th {\n",
       "        vertical-align: top;\n",
       "    }\n",
       "\n",
       "    .dataframe thead th {\n",
       "        text-align: right;\n",
       "    }\n",
       "</style>\n",
       "<table border=\"1\" class=\"dataframe\">\n",
       "  <thead>\n",
       "    <tr style=\"text-align: right;\">\n",
       "      <th></th>\n",
       "      <th>last_price</th>\n",
       "    </tr>\n",
       "    <tr>\n",
       "      <th>cityCenters_nearest_km</th>\n",
       "      <th></th>\n",
       "    </tr>\n",
       "  </thead>\n",
       "  <tbody>\n",
       "    <tr>\n",
       "      <td>0</td>\n",
       "      <td>8.429409e+06</td>\n",
       "    </tr>\n",
       "    <tr>\n",
       "      <td>1</td>\n",
       "      <td>8.396685e+06</td>\n",
       "    </tr>\n",
       "    <tr>\n",
       "      <td>2</td>\n",
       "      <td>7.721342e+06</td>\n",
       "    </tr>\n",
       "    <tr>\n",
       "      <td>3</td>\n",
       "      <td>7.598287e+06</td>\n",
       "    </tr>\n",
       "    <tr>\n",
       "      <td>4</td>\n",
       "      <td>7.856875e+06</td>\n",
       "    </tr>\n",
       "    <tr>\n",
       "      <td>5</td>\n",
       "      <td>7.446107e+06</td>\n",
       "    </tr>\n",
       "    <tr>\n",
       "      <td>6</td>\n",
       "      <td>6.887989e+06</td>\n",
       "    </tr>\n",
       "    <tr>\n",
       "      <td>7</td>\n",
       "      <td>6.765614e+06</td>\n",
       "    </tr>\n",
       "    <tr>\n",
       "      <td>8</td>\n",
       "      <td>6.353700e+06</td>\n",
       "    </tr>\n",
       "    <tr>\n",
       "      <td>9</td>\n",
       "      <td>5.347273e+06</td>\n",
       "    </tr>\n",
       "    <tr>\n",
       "      <td>10</td>\n",
       "      <td>5.386259e+06</td>\n",
       "    </tr>\n",
       "    <tr>\n",
       "      <td>11</td>\n",
       "      <td>5.338139e+06</td>\n",
       "    </tr>\n",
       "    <tr>\n",
       "      <td>12</td>\n",
       "      <td>5.427605e+06</td>\n",
       "    </tr>\n",
       "    <tr>\n",
       "      <td>13</td>\n",
       "      <td>5.571449e+06</td>\n",
       "    </tr>\n",
       "    <tr>\n",
       "      <td>14</td>\n",
       "      <td>5.304019e+06</td>\n",
       "    </tr>\n",
       "    <tr>\n",
       "      <td>15</td>\n",
       "      <td>5.169192e+06</td>\n",
       "    </tr>\n",
       "    <tr>\n",
       "      <td>16</td>\n",
       "      <td>5.077490e+06</td>\n",
       "    </tr>\n",
       "    <tr>\n",
       "      <td>17</td>\n",
       "      <td>4.680344e+06</td>\n",
       "    </tr>\n",
       "    <tr>\n",
       "      <td>18</td>\n",
       "      <td>4.775159e+06</td>\n",
       "    </tr>\n",
       "    <tr>\n",
       "      <td>19</td>\n",
       "      <td>4.583555e+06</td>\n",
       "    </tr>\n",
       "    <tr>\n",
       "      <td>20</td>\n",
       "      <td>6.365864e+06</td>\n",
       "    </tr>\n",
       "    <tr>\n",
       "      <td>21</td>\n",
       "      <td>5.076288e+06</td>\n",
       "    </tr>\n",
       "    <tr>\n",
       "      <td>22</td>\n",
       "      <td>5.095368e+06</td>\n",
       "    </tr>\n",
       "    <tr>\n",
       "      <td>23</td>\n",
       "      <td>4.126867e+06</td>\n",
       "    </tr>\n",
       "    <tr>\n",
       "      <td>24</td>\n",
       "      <td>3.862235e+06</td>\n",
       "    </tr>\n",
       "    <tr>\n",
       "      <td>25</td>\n",
       "      <td>4.014913e+06</td>\n",
       "    </tr>\n",
       "    <tr>\n",
       "      <td>26</td>\n",
       "      <td>3.575000e+06</td>\n",
       "    </tr>\n",
       "    <tr>\n",
       "      <td>27</td>\n",
       "      <td>2.250000e+06</td>\n",
       "    </tr>\n",
       "    <tr>\n",
       "      <td>28</td>\n",
       "      <td>4.910500e+06</td>\n",
       "    </tr>\n",
       "    <tr>\n",
       "      <td>29</td>\n",
       "      <td>3.833333e+06</td>\n",
       "    </tr>\n",
       "  </tbody>\n",
       "</table>\n",
       "</div>"
      ],
      "text/plain": [
       "                          last_price\n",
       "cityCenters_nearest_km              \n",
       "0                       8.429409e+06\n",
       "1                       8.396685e+06\n",
       "2                       7.721342e+06\n",
       "3                       7.598287e+06\n",
       "4                       7.856875e+06\n",
       "5                       7.446107e+06\n",
       "6                       6.887989e+06\n",
       "7                       6.765614e+06\n",
       "8                       6.353700e+06\n",
       "9                       5.347273e+06\n",
       "10                      5.386259e+06\n",
       "11                      5.338139e+06\n",
       "12                      5.427605e+06\n",
       "13                      5.571449e+06\n",
       "14                      5.304019e+06\n",
       "15                      5.169192e+06\n",
       "16                      5.077490e+06\n",
       "17                      4.680344e+06\n",
       "18                      4.775159e+06\n",
       "19                      4.583555e+06\n",
       "20                      6.365864e+06\n",
       "21                      5.076288e+06\n",
       "22                      5.095368e+06\n",
       "23                      4.126867e+06\n",
       "24                      3.862235e+06\n",
       "25                      4.014913e+06\n",
       "26                      3.575000e+06\n",
       "27                      2.250000e+06\n",
       "28                      4.910500e+06\n",
       "29                      3.833333e+06"
      ]
     },
     "execution_count": 39,
     "metadata": {},
     "output_type": "execute_result"
    }
   ],
   "source": [
    "#Средняя цена для каждого км\n",
    "spb_prices = saint_petersburg.query(last_price_query)\n",
    "spb_prices.pivot_table(index='cityCenters_nearest_km', values='last_price')"
   ]
  },
  {
   "cell_type": "code",
   "execution_count": 40,
   "metadata": {},
   "outputs": [
    {
     "data": {
      "image/png": "[encoded data removed]",
      "text/plain": [
       "<Figure size 432x288 with 1 Axes>"
      ]
     },
     "metadata": {
      "needs_background": "light"
     },
     "output_type": "display_data"
    }
   ],
   "source": [
    "#График, показывающий зависимость цены от удаленности\n",
    "(\n",
    "    pd.DataFrame(spb_prices.pivot_table(index='cityCenters_nearest_km', values='last_price').to_records())\n",
    "    .plot(x='cityCenters_nearest_km', y='last_price', kind='scatter', grid=True)\n",
    ")\n",
    "plt.show()"
   ]
  },
  {
   "cell_type": "markdown",
   "metadata": {},
   "source": [
    "В нашем случае, график меняется на границе в 7 км. Обозначим это как центральную зону."
   ]
  },
  {
   "cell_type": "markdown",
   "metadata": {},
   "source": [
    "<div class=\"alert alert-success\">\n",
    "<b>Комментарий ревьюера:</b>\n",
    "\n",
    "Ориентировочно да, потому что дальше идёт в том числе спад и длительная стагнация стоимости.\n",
    "    \n",
    "</div>"
   ]
  },
  {
   "cell_type": "code",
   "execution_count": 41,
   "metadata": {},
   "outputs": [
    {
     "data": {
      "text/plain": [
       "2503"
      ]
     },
     "execution_count": 41,
     "metadata": {},
     "output_type": "execute_result"
    }
   ],
   "source": [
    "#Выделяем квартиры в центре через срез\n",
    "apartments_in_center = pd.DataFrame(spb_prices.query('cityCenters_nearest_km <= 7'))\n",
    "len(apartments_in_center)"
   ]
  },
  {
   "cell_type": "code",
   "execution_count": 42,
   "metadata": {},
   "outputs": [
    {
     "data": {
      "text/plain": [
       "count    2402.000000\n",
       "mean       64.638318\n",
       "std        21.137366\n",
       "min        12.000000\n",
       "25%        47.100000\n",
       "50%        63.050000\n",
       "75%        79.797500\n",
       "max       115.000000\n",
       "Name: total_area, dtype: float64"
      ]
     },
     "execution_count": 42,
     "metadata": {},
     "output_type": "execute_result"
    }
   ],
   "source": [
    "#проанализируем площадь в центре\n",
    "apartments_in_center.query(total_area_query)['total_area'].describe()"
   ]
  },
  {
   "cell_type": "code",
   "execution_count": 43,
   "metadata": {},
   "outputs": [
    {
     "data": {
      "text/plain": [
       "count    2.503000e+03\n",
       "mean     7.502496e+06\n",
       "std      2.262249e+06\n",
       "min      1.600000e+06\n",
       "25%      5.800000e+06\n",
       "50%      7.400000e+06\n",
       "75%      9.150000e+06\n",
       "max      1.200000e+07\n",
       "Name: last_price, dtype: float64"
      ]
     },
     "execution_count": 43,
     "metadata": {},
     "output_type": "execute_result"
    }
   ],
   "source": [
    "#проанализируем цену в центре\n",
    "apartments_in_center['last_price'].describe()"
   ]
  },
  {
   "cell_type": "code",
   "execution_count": 44,
   "metadata": {},
   "outputs": [
    {
     "data": {
      "text/plain": [
       "count    2486.000000\n",
       "mean        2.376508\n",
       "std         1.038415\n",
       "min         1.000000\n",
       "25%         2.000000\n",
       "50%         2.000000\n",
       "75%         3.000000\n",
       "max         6.000000\n",
       "Name: rooms, dtype: float64"
      ]
     },
     "execution_count": 44,
     "metadata": {},
     "output_type": "execute_result"
    }
   ],
   "source": [
    "#проанализируем число комнат в центре\n",
    "apartments_in_center.query(rooms_query)['rooms'].describe()"
   ]
  },
  {
   "cell_type": "code",
   "execution_count": 45,
   "metadata": {},
   "outputs": [
    {
     "data": {
      "text/plain": [
       "count    2155.000000\n",
       "mean        2.782172\n",
       "std         0.198337\n",
       "min         2.400000\n",
       "25%         2.650000\n",
       "50%         2.650000\n",
       "75%         3.000000\n",
       "max         3.200000\n",
       "Name: ceiling_height, dtype: float64"
      ]
     },
     "execution_count": 45,
     "metadata": {},
     "output_type": "execute_result"
    }
   ],
   "source": [
    "#проанализируем высоту потолков в центре\n",
    "apartments_in_center.query(ceiling_height_query)['ceiling_height'].describe()"
   ]
  },
  {
   "cell_type": "markdown",
   "metadata": {},
   "source": [
    "Средняя площадь 63 кв.м. Средняя цена 7.5 млн. руб. Больше объявлений по двушкам и трешкам. Средняя высота потолков почти 2.8 м."
   ]
  },
  {
   "cell_type": "code",
   "execution_count": 46,
   "metadata": {},
   "outputs": [],
   "source": [
    "#Давайте разберемся, какие факторы влияют на стоимость квартиры\n",
    "#Добавим критерии, для того, чтобы максимально объективно проанализировать чистые данные по квартирам в Санкт-Петербурге\n",
    "clean_data_query = f'{total_area_query} and {rooms_query} and {ceiling_height_query} and {days_exposition_query}'\n",
    "clean_data = apartments_in_center.query(clean_data_query)\n"
   ]
  },
  {
   "cell_type": "code",
   "execution_count": 47,
   "metadata": {},
   "outputs": [
    {
     "data": {
      "text/html": [
       "<div>\n",
       "<style scoped>\n",
       "    .dataframe tbody tr th:only-of-type {\n",
       "        vertical-align: middle;\n",
       "    }\n",
       "\n",
       "    .dataframe tbody tr th {\n",
       "        vertical-align: top;\n",
       "    }\n",
       "\n",
       "    .dataframe thead th {\n",
       "        text-align: right;\n",
       "    }\n",
       "</style>\n",
       "<table border=\"1\" class=\"dataframe\">\n",
       "  <thead>\n",
       "    <tr style=\"text-align: right;\">\n",
       "      <th></th>\n",
       "      <th>last_price</th>\n",
       "      <th>cityCenters_nearest_km</th>\n",
       "      <th>total_area</th>\n",
       "      <th>rooms</th>\n",
       "      <th>ceiling_height</th>\n",
       "      <th>day_exposition</th>\n",
       "      <th>month_exposition</th>\n",
       "      <th>year_exposition</th>\n",
       "    </tr>\n",
       "  </thead>\n",
       "  <tbody>\n",
       "    <tr>\n",
       "      <td>last_price</td>\n",
       "      <td>1.000000</td>\n",
       "      <td>-0.143463</td>\n",
       "      <td>0.702623</td>\n",
       "      <td>0.437698</td>\n",
       "      <td>0.150980</td>\n",
       "      <td>0.018105</td>\n",
       "      <td>-0.009621</td>\n",
       "      <td>0.057615</td>\n",
       "    </tr>\n",
       "    <tr>\n",
       "      <td>total_area</td>\n",
       "      <td>0.702623</td>\n",
       "      <td>-0.176720</td>\n",
       "      <td>1.000000</td>\n",
       "      <td>0.791482</td>\n",
       "      <td>0.190267</td>\n",
       "      <td>-0.018728</td>\n",
       "      <td>0.026316</td>\n",
       "      <td>-0.068927</td>\n",
       "    </tr>\n",
       "    <tr>\n",
       "      <td>rooms</td>\n",
       "      <td>0.437698</td>\n",
       "      <td>-0.162037</td>\n",
       "      <td>0.791482</td>\n",
       "      <td>1.000000</td>\n",
       "      <td>0.175667</td>\n",
       "      <td>-0.017738</td>\n",
       "      <td>0.036363</td>\n",
       "      <td>-0.037910</td>\n",
       "    </tr>\n",
       "    <tr>\n",
       "      <td>ceiling_height</td>\n",
       "      <td>0.150980</td>\n",
       "      <td>-0.156005</td>\n",
       "      <td>0.190267</td>\n",
       "      <td>0.175667</td>\n",
       "      <td>1.000000</td>\n",
       "      <td>-0.049601</td>\n",
       "      <td>-0.046390</td>\n",
       "      <td>0.105891</td>\n",
       "    </tr>\n",
       "    <tr>\n",
       "      <td>year_exposition</td>\n",
       "      <td>0.057615</td>\n",
       "      <td>0.027318</td>\n",
       "      <td>-0.068927</td>\n",
       "      <td>-0.037910</td>\n",
       "      <td>0.105891</td>\n",
       "      <td>0.008188</td>\n",
       "      <td>-0.304691</td>\n",
       "      <td>1.000000</td>\n",
       "    </tr>\n",
       "    <tr>\n",
       "      <td>day_exposition</td>\n",
       "      <td>0.018105</td>\n",
       "      <td>0.025879</td>\n",
       "      <td>-0.018728</td>\n",
       "      <td>-0.017738</td>\n",
       "      <td>-0.049601</td>\n",
       "      <td>1.000000</td>\n",
       "      <td>0.042020</td>\n",
       "      <td>0.008188</td>\n",
       "    </tr>\n",
       "    <tr>\n",
       "      <td>month_exposition</td>\n",
       "      <td>-0.009621</td>\n",
       "      <td>-0.007513</td>\n",
       "      <td>0.026316</td>\n",
       "      <td>0.036363</td>\n",
       "      <td>-0.046390</td>\n",
       "      <td>0.042020</td>\n",
       "      <td>1.000000</td>\n",
       "      <td>-0.304691</td>\n",
       "    </tr>\n",
       "    <tr>\n",
       "      <td>cityCenters_nearest_km</td>\n",
       "      <td>-0.143463</td>\n",
       "      <td>1.000000</td>\n",
       "      <td>-0.176720</td>\n",
       "      <td>-0.162037</td>\n",
       "      <td>-0.156005</td>\n",
       "      <td>0.025879</td>\n",
       "      <td>-0.007513</td>\n",
       "      <td>0.027318</td>\n",
       "    </tr>\n",
       "  </tbody>\n",
       "</table>\n",
       "</div>"
      ],
      "text/plain": [
       "                        last_price  cityCenters_nearest_km  total_area  \\\n",
       "last_price                1.000000               -0.143463    0.702623   \n",
       "total_area                0.702623               -0.176720    1.000000   \n",
       "rooms                     0.437698               -0.162037    0.791482   \n",
       "ceiling_height            0.150980               -0.156005    0.190267   \n",
       "year_exposition           0.057615                0.027318   -0.068927   \n",
       "day_exposition            0.018105                0.025879   -0.018728   \n",
       "month_exposition         -0.009621               -0.007513    0.026316   \n",
       "cityCenters_nearest_km   -0.143463                1.000000   -0.176720   \n",
       "\n",
       "                           rooms  ceiling_height  day_exposition  \\\n",
       "last_price              0.437698        0.150980        0.018105   \n",
       "total_area              0.791482        0.190267       -0.018728   \n",
       "rooms                   1.000000        0.175667       -0.017738   \n",
       "ceiling_height          0.175667        1.000000       -0.049601   \n",
       "year_exposition        -0.037910        0.105891        0.008188   \n",
       "day_exposition         -0.017738       -0.049601        1.000000   \n",
       "month_exposition        0.036363       -0.046390        0.042020   \n",
       "cityCenters_nearest_km -0.162037       -0.156005        0.025879   \n",
       "\n",
       "                        month_exposition  year_exposition  \n",
       "last_price                     -0.009621         0.057615  \n",
       "total_area                      0.026316        -0.068927  \n",
       "rooms                           0.036363        -0.037910  \n",
       "ceiling_height                 -0.046390         0.105891  \n",
       "year_exposition                -0.304691         1.000000  \n",
       "day_exposition                  0.042020         0.008188  \n",
       "month_exposition                1.000000        -0.304691  \n",
       "cityCenters_nearest_km         -0.007513         0.027318  "
      ]
     },
     "execution_count": 47,
     "metadata": {},
     "output_type": "execute_result"
    }
   ],
   "source": [
    "columns = [\n",
    "    'last_price',\n",
    "    'cityCenters_nearest_km',\n",
    "    'total_area',\n",
    "    'rooms',\n",
    "    'ceiling_height',\n",
    "    'day_exposition',\n",
    "    'month_exposition',\n",
    "    'year_exposition'\n",
    "]\n",
    "\n",
    "clean_data[columns].corr().sort_values('last_price', ascending=False)"
   ]
  },
  {
   "cell_type": "code",
   "execution_count": 48,
   "metadata": {},
   "outputs": [
    {
     "data": {
      "text/html": [
       "<div>\n",
       "<style scoped>\n",
       "    .dataframe tbody tr th:only-of-type {\n",
       "        vertical-align: middle;\n",
       "    }\n",
       "\n",
       "    .dataframe tbody tr th {\n",
       "        vertical-align: top;\n",
       "    }\n",
       "\n",
       "    .dataframe thead th {\n",
       "        text-align: right;\n",
       "    }\n",
       "</style>\n",
       "<table border=\"1\" class=\"dataframe\">\n",
       "  <thead>\n",
       "    <tr style=\"text-align: right;\">\n",
       "      <th></th>\n",
       "      <th>last_price</th>\n",
       "    </tr>\n",
       "    <tr>\n",
       "      <th>floor</th>\n",
       "      <th></th>\n",
       "    </tr>\n",
       "  </thead>\n",
       "  <tbody>\n",
       "    <tr>\n",
       "      <td>первый</td>\n",
       "      <td>6.257843e+06</td>\n",
       "    </tr>\n",
       "    <tr>\n",
       "      <td>последний</td>\n",
       "      <td>7.256400e+06</td>\n",
       "    </tr>\n",
       "    <tr>\n",
       "      <td>другой</td>\n",
       "      <td>7.472445e+06</td>\n",
       "    </tr>\n",
       "  </tbody>\n",
       "</table>\n",
       "</div>"
      ],
      "text/plain": [
       "             last_price\n",
       "floor                  \n",
       "первый     6.257843e+06\n",
       "последний  7.256400e+06\n",
       "другой     7.472445e+06"
      ]
     },
     "execution_count": 48,
     "metadata": {},
     "output_type": "execute_result"
    }
   ],
   "source": [
    "# Проанализируем зависимость этажа и стоимости квартиры.\n",
    "clean_data.pivot_table(index='floor', values='last_price').sort_values(by='last_price')"
   ]
  },
  {
   "cell_type": "markdown",
   "metadata": {},
   "source": [
    "<div class=\"alert alert-success\">\n",
    "<b>Комментарий ревьюера:</b>\n",
    "\n",
    "Кстати можно было бы сравнить центр и весь город в целом на графиках, для наглядности наших расчетов.\n",
    "    \n",
    "</div>"
   ]
  },
  {
   "cell_type": "markdown",
   "metadata": {},
   "source": [
    "Ожидаемо, что ситуация в Санкт-Петербурге такая же с ценой по этажам, как и в других городах. Первый самый дешевый. Самые дорогие от первого до последнего."
   ]
  },
  {
   "cell_type": "markdown",
   "metadata": {},
   "source": [
    "### Шаг 5. Общий вывод"
   ]
  },
  {
   "cell_type": "markdown",
   "metadata": {},
   "source": [
    "Исходя из проделанной работы можно сделать вывод, что недвижимость, которая расположена ближе к центру всегда дороже. Анализируя общую картину, недвижимость в Петербурге, дороже чем в остальных городах из датасета. Из общих факторов, влияющих на стоимость квартиры можно выделить кол-во комнат, площадь и высоту потолков. "
   ]
  },
  {
   "cell_type": "markdown",
   "metadata": {},
   "source": [
    "<div class=\"alert alert-success\">\n",
    "<b>Комментарий ревьюера:</b>\n",
    "\n",
    "Выводы понятны и логичны, а самое главное подкреплены выявленными фактами.\n",
    "       \n",
    "Достаточно детально проделанный проект и это не может не радовать 😊👍\n",
    "    \n",
    "Давай поправим мои комментарии и будем двигаться дальше. \n",
    "    \n",
    "</div>"
   ]
  },
  {
   "cell_type": "markdown",
   "metadata": {},
   "source": [
    "<div class=\"alert alert-danger\">\n",
    "<b>Комментарий ревьюера:</b>\n",
    "\n",
    "<s>К сожалению не увидел в проекте автоматизацию графиков, возможно не сохранились при редактировании ☹️   </s>\n",
    "</div>"
   ]
  },
  {
   "cell_type": "markdown",
   "metadata": {},
   "source": [
    "<div class=\"alert alert-success\">\n",
    "<b>Комментарий ревьюера:</b>\n",
    "\n",
    "В целом сам проект выполнен на хорошем уровне! На протяжении всей работы чувствуется глубина проработки задачи и это безусловный плюс для нас. Было использовано большое количество методов, которые будут помогать тебе в дальнейших проектах.\n",
    "    \n",
    "Не стоит забывать про оформление своей работы, это важный такой же важный этап. Рекомендую «не стесняться» использовать ячейки типа **markdown** там где нам необходимо отобразить свои размышления, в том числе с использованием дополнительной стилизации.\n",
    "    \n",
    "Успехов тебе в новых проектах! \n",
    "    \n",
    "</div>"
   ]
  },
  {
   "cell_type": "markdown",
   "metadata": {},
   "source": [
    "<div class=\"alert alert-success\">\n",
    "<b>Комментарий ревьюера:</b>\n",
    "\n",
    "Рекомендую посмотреть на дополнительную стилизацию ячеек типа **markdown**.\n",
    "    \n",
    "**Жирный**\n",
    "*Курсив*\n",
    "    \n",
    "--- \n",
    "\n",
    "# Заголовок первого уровня\n",
    "\n",
    "--- \n",
    "    \n",
    "## Заголовок второго уровня\n",
    "  \n",
    "---  \n",
    "Списки:\n",
    "    \n",
    "- один \n",
    "- два\n",
    "- три\n",
    "   \n",
    "---\n",
    "    \n",
    "1. Раз\n",
    "2. Раз раз\n",
    "3. Раз два три\n",
    "    \n",
    "--- \n",
    "    \n",
    "Отображение `переменных`\n",
    "\n",
    "    \n",
    "</div>"
   ]
  },
  {
   "cell_type": "markdown",
   "metadata": {},
   "source": [
    "### Чек-лист готовности проекта\n",
    "\n",
    "Поставьте 'x' в выполненных пунктах. Далее нажмите Shift+Enter."
   ]
  },
  {
   "cell_type": "markdown",
   "metadata": {},
   "source": [
    "- [x]  открыт файл\n",
    "- [x]  файлы изучены (выведены первые строки, метод info())\n",
    "- [x]  определены пропущенные значения\n",
    "- [x]  заполнены пропущенные значения\n",
    "- [x]  есть пояснение, какие пропущенные значения обнаружены\n",
    "- [x]  изменены типы данных\n",
    "- [x]  есть пояснение, в каких столбцах изменены типы и почему\n",
    "- [x]  посчитано и добавлено в таблицу: цена квадратного метра\n",
    "- [x]  посчитано и добавлено в таблицу: день недели, месяц и год публикации объявления\n",
    "- [x]  посчитано и добавлено в таблицу: этаж квартиры; варианты — первый, последний, другой\n",
    "- [x]  посчитано и добавлено в таблицу: соотношение жилой и общей площади, а также отношение площади кухни к общей\n",
    "- [x]  изучены следующие параметры: площадь, цена, число комнат, высота потолков\n",
    "- [x]  построены гистограммы для каждого параметра\n",
    "- [x]  выполнено задание: \"Изучите время продажи квартиры. Постройте гистограмму. Посчитайте среднее и медиану. Опишите, сколько обычно занимает продажа. Когда можно считать, что продажи прошли очень быстро, а когда необычно долго?\"\n",
    "- [x]  выполнено задание: \"Уберите редкие и выбивающиеся значения. Опишите, какие особенности обнаружили.\"\n",
    "- [x]  выполнено задание: \"Какие факторы больше всего влияют на стоимость квартиры? Изучите, зависит ли цена от квадратного метра, числа комнат, этажа (первого или последнего), удалённости от центра. Также изучите зависимость от даты размещения: дня недели, месяца и года. \"Выберите 10 населённых пунктов с наибольшим числом объявлений. Посчитайте среднюю цену квадратного метра в этих населённых пунктах. Выделите населённые пункты с самой высокой и низкой стоимостью жилья. Эти данные можно найти по имени в столбце '*locality_name'*. \"\n",
    "- [x]  выполнено задание: \"Изучите предложения квартир: для каждой квартиры есть информация о расстоянии до центра. Выделите квартиры в Санкт-Петербурге (*'locality_name'*). Ваша задача — выяснить, какая область входит в центр. Создайте столбец с расстоянием до центра в километрах: округлите до целых значений. После этого посчитайте среднюю цену для каждого километра. Постройте график: он должен показывать, как цена зависит от удалённости от центра. Определите границу, где график сильно меняется — это и будет центральная зона. \"\n",
    "- [x]  выполнено задание: \"Выделите сегмент квартир в центре. Проанализируйте эту территорию и изучите следующие параметры: площадь, цена, число комнат, высота потолков. Также выделите факторы, которые влияют на стоимость квартиры (число комнат, этаж, удалённость от центра, дата размещения объявления). Сделайте выводы. Отличаются ли они от общих выводов по всему городу?\"\n",
    "- [x]  в каждом этапе есть выводы\n",
    "- [x]  есть общий вывод"
   ]
  }
 ],
 "metadata": {
  "kernelspec": {
   "display_name": "Python 3",
   "language": "python",
   "name": "python3"
  },
  "language_info": {
   "codemirror_mode": {
    "name": "ipython",
    "version": 3
   },
   "file_extension": ".py",
   "mimetype": "text/x-python",
   "name": "python",
   "nbconvert_exporter": "python",
   "pygments_lexer": "ipython3",
   "version": "3.7.8"
  },
  "toc": {
   "base_numbering": 1,
   "nav_menu": {},
   "number_sections": true,
   "sideBar": true,
   "skip_h1_title": true,
   "title_cell": "Table of Contents",
   "title_sidebar": "Contents",
   "toc_cell": false,
   "toc_position": {},
   "toc_section_display": true,
   "toc_window_display": false
  }
 },
 "nbformat": 4,
 "nbformat_minor": 2
}
